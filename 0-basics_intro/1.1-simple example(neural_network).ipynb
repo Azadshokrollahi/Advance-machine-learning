{
  "nbformat": 4,
  "nbformat_minor": 0,
  "metadata": {
    "colab": {
      "provenance": [],
      "include_colab_link": true
    },
    "kernelspec": {
      "name": "python3",
      "display_name": "Python 3"
    },
    "language_info": {
      "name": "python"
    }
  },
  "cells": [
    {
      "cell_type": "markdown",
      "metadata": {
        "id": "view-in-github",
        "colab_type": "text"
      },
      "source": [
        "<a href=\"https://colab.research.google.com/github/Azadshokrollahi/Advance-machine-learning/blob/develop/0-basics_intro/01-simple-example.ipynb\" target=\"_parent\"><img src=\"https://colab.research.google.com/assets/colab-badge.svg\" alt=\"Open In Colab\"/></a>"
      ]
    },
    {
      "cell_type": "code",
      "execution_count": null,
      "metadata": {
        "colab": {
          "base_uri": "https://localhost:8080/"
        },
        "id": "rgaaia7U6BxC",
        "outputId": "d88b5e80-c52e-4445-e8ea-adccc723692c"
      },
      "outputs": [
        {
          "output_type": "stream",
          "name": "stdout",
          "text": [
            "Epoch 100, Loss: 0.6960282921791077\n",
            "Epoch 200, Loss: 0.6931044459342957\n",
            "Epoch 300, Loss: 0.6915172338485718\n",
            "Epoch 400, Loss: 0.6906031370162964\n",
            "Epoch 500, Loss: 0.6899827122688293\n",
            "Epoch 600, Loss: 0.6895336508750916\n",
            "Epoch 700, Loss: 0.6891883611679077\n",
            "Epoch 800, Loss: 0.6889009475708008\n",
            "Epoch 900, Loss: 0.688646674156189\n",
            "Epoch 1000, Loss: 0.6884204149246216\n"
          ]
        }
      ],
      "source": [
        "# Step 0: Import Necessary Libraries\n",
        "# Import PyTorch for neural network creation and training\n",
        "import torch\n",
        "import torch.nn as nn\n",
        "import torch.nn.functional as F\n",
        "import torch.optim as optim\n",
        "# Import NumPy and Pandas for data manipulation\n",
        "import numpy as np\n",
        "import pandas as pd\n",
        "\n",
        "# Step 1: Create Synthetic Dataset\n",
        "# Set a seed for reproducibility of the results\n",
        "np.random.seed(0)\n",
        "# Generate a random dataset with 20 samples and 3 features\n",
        "data = np.random.rand(20, 3)\n",
        "# Convert the NumPy array to a Pandas DataFrame for easy manipulation and understanding\n",
        "df = pd.DataFrame(data, columns=['Feature1', 'Feature2', 'Label'])\n",
        "# Convert the DataFrame into PyTorch tensors for training.\n",
        "# We separate the features (X) and the label (Y) for supervised learning.\n",
        "X = torch.tensor(df[['Feature1', 'Feature2']].values, dtype=torch.float32)\n",
        "Y = torch.tensor(df[['Label']].values, dtype=torch.float32)\n",
        "\n",
        "# Step 2: Define the Neural Network\n",
        "# Define a simple neural network class inheriting from nn.Module\n",
        "class SimpleNN(nn.Module):\n",
        "    def __init__(self):\n",
        "        super(SimpleNN, self).__init__()\n",
        "        # Define the first fully connected layer (fc1) mapping from 2 inputs to 5 hidden nodes\n",
        "        self.fc1 = nn.Linear(2, 5)\n",
        "        # Define the second fully connected layer (fc2) mapping from 5 hidden nodes to 1 output\n",
        "        self.fc2 = nn.Linear(5, 1)\n",
        "\n",
        "    # Define the forward pass through the network\n",
        "    def forward(self, x):\n",
        "        # Apply a ReLU activation function after the first layer\n",
        "        x = F.relu(self.fc1(x))\n",
        "        # Apply a sigmoid activation function after the second layer to output values between 0 and 1\n",
        "        x = torch.sigmoid(self.fc2(x))\n",
        "        return x\n",
        "\n",
        "# Step 3: Instantiate the Network, Loss Function, and Optimizer\n",
        "# Create an instance of the neural network\n",
        "net = SimpleNN()\n",
        "# Define the loss function to be Binary Cross-Entropy for a binary classification task\n",
        "criterion = nn.BCELoss()\n",
        "# Define the optimizer to adjust the weights of the network, using Stochastic Gradient Descent (SGD) with a learning rate of 0.01\n",
        "optimizer = optim.SGD(net.parameters(), lr=0.01)\n",
        "\n",
        "# Step 4: Train the Network\n",
        "# Train the network for 1000 epochs (iterations over the entire dataset)\n",
        "for epoch in range(1000):\n",
        "    # Reset gradients for each epoch\n",
        "    optimizer.zero_grad()\n",
        "\n",
        "    # Perform a forward pass through the network with the input features\n",
        "    outputs = net(X)\n",
        "    # Calculate the loss between the network's output and the true labels\n",
        "    loss = criterion(outputs, Y)\n",
        "\n",
        "    # Perform a backward pass to compute gradients\n",
        "    loss.backward()\n",
        "    # Update the network weights based on the gradients\n",
        "    optimizer.step()\n",
        "\n",
        "    # Print the loss every 100 epochs to monitor training progress\n",
        "    if epoch % 100 == 99:\n",
        "        print(f'Epoch {epoch+1}, Loss: {loss.item()}')\n"
      ]
    }
  ]
}