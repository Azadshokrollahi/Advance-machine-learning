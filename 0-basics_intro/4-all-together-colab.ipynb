{
  "cells": [
    {
      "cell_type": "markdown",
      "metadata": {
        "id": "view-in-github",
        "colab_type": "text"
      },
      "source": [
        "<a href=\"https://colab.research.google.com/github/aeau/MAU-AML-labs/blob/develop/0-basics_intro/4-all-together-colab.ipynb\" target=\"_parent\"><img src=\"https://colab.research.google.com/assets/colab-badge.svg\" alt=\"Open In Colab\"/></a>"
      ]
    },
    {
      "cell_type": "markdown",
      "metadata": {
        "id": "XVjfuG-ns8ep"
      },
      "source": [
        "## Putting it all together! ##\n",
        "\n",
        "Now that we have a model and data it’s time to train, validate and test our model by optimizing it’s parameters on our data. Training a model is an iterative process; in each iteration (called an epoch) the model makes a guess about the output, calculates the error in its guess (loss), collects the derivatives of the error with respect to its parameters (as we saw in the previous section), and optimizes these parameters using gradient descent. "
      ]
    },
    {
      "cell_type": "code",
      "execution_count": 1,
      "metadata": {
        "id": "rBEoGWG7s8er"
      },
      "outputs": [],
      "source": [
        "import torch\n",
        "from torch import nn\n",
        "from torch.utils.data import DataLoader\n",
        "from torchvision import datasets\n",
        "from torchvision.transforms import ToTensor, Lambda\n",
        "\n"
      ]
    },
    {
      "cell_type": "code",
      "source": [
        "from google.colab import drive\n",
        "drive.mount('/content/drive')"
      ],
      "metadata": {
        "id": "O_OWQ6v-tAJJ",
        "outputId": "37fb1b72-6f14-49d6-8b5f-8f9a3c84bd8b",
        "colab": {
          "base_uri": "https://localhost:8080/"
        }
      },
      "execution_count": 2,
      "outputs": [
        {
          "output_type": "stream",
          "name": "stdout",
          "text": [
            "Mounted at /content/drive\n"
          ]
        }
      ]
    },
    {
      "cell_type": "code",
      "source": [
        "root_dir = '/content/drive/MyDrive/Work/PHD/courses-AML/data'\n",
        "\n",
        "training_data = datasets.FashionMNIST(\n",
        "    root=root_dir,\n",
        "    train=True,\n",
        "    download=True,\n",
        "    transform=ToTensor()\n",
        ")\n",
        "\n",
        "test_data = datasets.FashionMNIST(\n",
        "    root=root_dir,\n",
        "    train=False,\n",
        "    download=True,\n",
        "    transform=ToTensor()\n",
        ")\n",
        "\n",
        "train_dataloader = DataLoader(training_data, batch_size=64)\n",
        "test_dataloader = DataLoader(test_data, batch_size=64)"
      ],
      "metadata": {
        "id": "Sp05y8WNs_Xa"
      },
      "execution_count": 3,
      "outputs": []
    },
    {
      "cell_type": "code",
      "execution_count": 4,
      "metadata": {
        "id": "9LiaUfwss8es",
        "outputId": "592f4451-8830-4f5c-d446-5d8d58e5f3c4",
        "colab": {
          "base_uri": "https://localhost:8080/"
        }
      },
      "outputs": [
        {
          "output_type": "stream",
          "name": "stdout",
          "text": [
            "cuda\n"
          ]
        }
      ],
      "source": [
        "device = 'cuda' if torch.cuda.is_available() else 'cpu'\n",
        "print(device)"
      ]
    },
    {
      "cell_type": "code",
      "execution_count": 6,
      "metadata": {
        "id": "yZdU1n_4s8es"
      },
      "outputs": [],
      "source": [
        "# We define our neural network by subclassing nn.Module, and initialize the neural network layers in __init__. \n",
        "# Every nn.Module subclass implements the operations on input data in the forward method.\n",
        "\n",
        "class NeuralNetwork(nn.Module):\n",
        "    def __init__(self, input_width, input_height, label_dim):\n",
        "        super(NeuralNetwork, self).__init__()\n",
        "        self.flatten = nn.Flatten() # Used to convert the 2D input into 1D (28x28 to 784)\n",
        "        self.linear_relu_stack = nn.Sequential(\n",
        "            nn.Linear(input_width*input_height, 512),\n",
        "            nn.ReLU(),\n",
        "            nn.Linear(512, 512),\n",
        "            nn.ReLU(),\n",
        "            nn.Linear(512, label_dim),\n",
        "            nn.ReLU()\n",
        "        )\n",
        "        self.softmax = nn.Softmax(dim=1)\n",
        "        self.softmax_result = 0\n",
        "\n",
        "    def forward(self, x):\n",
        "        x = self.flatten(x)\n",
        "        logits = self.linear_relu_stack(x)\n",
        "        self.softmax_result = self.softmax(logits)\n",
        "        return logits"
      ]
    },
    {
      "cell_type": "code",
      "execution_count": 7,
      "metadata": {
        "id": "a7OcsLFls8es"
      },
      "outputs": [],
      "source": [
        "model = NeuralNetwork(28, 28, 10).to(device)"
      ]
    },
    {
      "cell_type": "markdown",
      "metadata": {
        "id": "JQSHcNRZs8es"
      },
      "source": [
        "### Hyperparameters ### \n",
        "Hyperparameters are adjustable parameters that let you control the model optimization process. Different hyperparameter values can impact model training and convergence rates (read more about hyperparameter tuning)\n",
        "\n",
        "We define the following hyperparameters for training:\n",
        "- __Number of Epochs__ - the number times to iterate over the dataset\n",
        "- __Batch Size__ - the number of data samples seen by the model in each epoch\n",
        "- __Learning Rate__ - how much to update models parameters at each batch/epoch. Smaller values yield slow learning speed, while large values may result in unpredictable behavior during training."
      ]
    },
    {
      "cell_type": "code",
      "execution_count": 8,
      "metadata": {
        "id": "YrHlQa7zs8et"
      },
      "outputs": [],
      "source": [
        "learning_rate = 1e-3\n",
        "batch_size = 64\n",
        "epochs = 5\n"
      ]
    },
    {
      "cell_type": "markdown",
      "metadata": {
        "id": "h1fdHy0Rs8et"
      },
      "source": [
        "#### Important to know about different loss functions ####\n",
        "Loss function measures the degree of dissimilarity of obtained result to the target value, and it is the loss function that we want to minimize during training. To calculate the loss we make a prediction using the inputs of our given data sample and compare it against the true data label value.\n",
        "\n",
        "Common loss functions include `nn.MSELoss` (Mean Square Error) for regression tasks, and `nn.NLLLoss` (Negative Log Likelihood) for classification. `nn.CrossEntropyLoss` combines `nn.LogSoftmax` and `nn.NLLLoss`.\n",
        "\n",
        "We pass our model’s output logits to nn.CrossEntropyLoss, which will normalize the logits and compute the prediction error.\n",
        "\n",
        "Check this for more info on the loss functions that exist within Pytorch:\n",
        "https://pytorch.org/docs/stable/nn.html#loss-functions"
      ]
    },
    {
      "cell_type": "code",
      "execution_count": 9,
      "metadata": {
        "id": "BPtvB5IJs8eu"
      },
      "outputs": [],
      "source": [
        "# Initialize the loss function\n",
        "loss_fn = nn.CrossEntropyLoss()"
      ]
    },
    {
      "cell_type": "markdown",
      "metadata": {
        "id": "jK7fSiR_s8eu"
      },
      "source": [
        "## Optimizer ##\n",
        "Optimization is the process of adjusting model parameters to reduce model error in each training step. Optimization algorithms define how this process is performed (in this example we use Stochastic Gradient Descent). All optimization logic is encapsulated in the optimizer object. Here, we use the SGD optimizer; additionally, there are many different optimizers available in PyTorch such as ADAM and RMSProp, that work better for different kinds of models and data. (https://pytorch.org/docs/stable/optim.html)\n",
        "\n",
        "We initialize the optimizer by registering the model’s parameters that need to be trained, and passing in the learning rate hyperparameter."
      ]
    },
    {
      "cell_type": "code",
      "execution_count": 10,
      "metadata": {
        "id": "n-2uPIozs8ev"
      },
      "outputs": [],
      "source": [
        "optimizer = torch.optim.SGD(model.parameters(), lr=learning_rate)\n",
        "#optimizer = torch.optim.Adam(modelmodel_cnn.parameters(), lr=learning_rate)"
      ]
    },
    {
      "cell_type": "markdown",
      "metadata": {
        "id": "JaeBTrHas8ev"
      },
      "source": [
        "Once we set our hyperparameters, we can then train and optimize our model with an optimization loop. Each iteration of the optimization loop is called an epoch.\n",
        "\n",
        "Each epoch consists of two main parts:\n",
        "- The Train Loop - iterate over the training dataset and try to converge to optimal parameters.\n",
        "- The Validation/Test Loop - iterate over the test dataset to check if model performance is improving.\n",
        "\n",
        "Inside the training loop, optimization happens in three steps:\n",
        "\n",
        "- Call optimizer.zero_grad() to reset the gradients of model parameters. Gradients by default add up; to prevent double-counting, we explicitly zero them at each iteration.\n",
        "- Backpropagate the prediction loss with a call to loss.backwards(). PyTorch deposits the gradients of the loss w.r.t. each parameter.\n",
        "- Once we have our gradients, we call optimizer.step() to adjust the parameters by the gradients collected in the backward pass."
      ]
    },
    {
      "cell_type": "code",
      "execution_count": 11,
      "metadata": {
        "id": "YxsuNOEIs8ev"
      },
      "outputs": [],
      "source": [
        "def train_loop(dataloader, model, loss_fn, optimizer):\n",
        "    size = len(dataloader.dataset)\n",
        "    for batch, (X, y) in enumerate(dataloader):\n",
        "        # Compute prediction and loss\n",
        "        # X.shape = [64, 28, 28] [batch_size, width, height]\n",
        "        # y.shape = [64] [batch_size]\n",
        "        X, y = X.to(device), y.to(device) # everything in the same device\n",
        "        \n",
        "        pred = model(X)\n",
        "        loss = loss_fn(pred, y)\n",
        "\n",
        "        # Backpropagation\n",
        "        optimizer.zero_grad() #Reset the gradient\n",
        "        loss.backward() # Calculate the gradient\n",
        "        optimizer.step() # Correct the weights\n",
        "\n",
        "        if batch % 100 == 0:\n",
        "            loss, current = loss.item(), batch * len(X)\n",
        "            print(f\"loss: {loss:>7f}  [{current:>5d}/{size:>5d}]\")"
      ]
    },
    {
      "cell_type": "code",
      "execution_count": 15,
      "metadata": {
        "id": "74C43DIys8ev"
      },
      "outputs": [],
      "source": [
        "def test_loop(dataloader, model, loss_fn):\n",
        "    size = len(dataloader.dataset)\n",
        "    num_batches = len(dataloader)\n",
        "    test_loss, correct = 0, 0\n",
        "\n",
        "    with torch.no_grad():\n",
        "        for X, y in dataloader:\n",
        "            X, y = X.to(device), y.to(device)\n",
        "            pred = model(X)\n",
        "            test_loss += loss_fn(pred, y).item()\n",
        "            correct += (pred.argmax(1) == y).type(torch.float).sum().item()\n",
        "\n",
        "    test_loss /= num_batches\n",
        "    correct /= size\n",
        "    print(f\"Test Error: \\n Accuracy: {(100*correct):>0.1f}%, Avg loss: {test_loss:>8f} \\n\")"
      ]
    },
    {
      "cell_type": "code",
      "execution_count": 16,
      "metadata": {
        "id": "lWkfa3F2s8ew",
        "outputId": "869ae0ba-6329-4da6-aa40-a627cd2cfea8",
        "colab": {
          "base_uri": "https://localhost:8080/"
        }
      },
      "outputs": [
        {
          "output_type": "stream",
          "name": "stdout",
          "text": [
            "Epoch 1\n",
            "-------------------------------\n",
            "loss: 1.566993  [    0/60000]\n",
            "loss: 1.565849  [ 6400/60000]\n",
            "loss: 1.530245  [12800/60000]\n",
            "loss: 1.544650  [19200/60000]\n",
            "loss: 1.299659  [25600/60000]\n",
            "loss: 1.604783  [32000/60000]\n",
            "loss: 1.290848  [38400/60000]\n",
            "loss: 1.437422  [44800/60000]\n",
            "loss: 1.565354  [51200/60000]\n",
            "loss: 1.341447  [57600/60000]\n",
            "Test Error: \n",
            " Accuracy: 45.9%, Avg loss: 1.494429 \n",
            "\n",
            "Epoch 2\n",
            "-------------------------------\n",
            "loss: 1.565017  [    0/60000]\n",
            "loss: 1.563707  [ 6400/60000]\n",
            "loss: 1.528226  [12800/60000]\n",
            "loss: 1.542416  [19200/60000]\n",
            "loss: 1.297439  [25600/60000]\n",
            "loss: 1.602642  [32000/60000]\n",
            "loss: 1.288251  [38400/60000]\n",
            "loss: 1.436193  [44800/60000]\n",
            "loss: 1.563715  [51200/60000]\n",
            "loss: 1.339719  [57600/60000]\n",
            "Test Error: \n",
            " Accuracy: 46.0%, Avg loss: 1.492686 \n",
            "\n",
            "Epoch 3\n",
            "-------------------------------\n",
            "loss: 1.563168  [    0/60000]\n",
            "loss: 1.561717  [ 6400/60000]\n",
            "loss: 1.526323  [12800/60000]\n",
            "loss: 1.540233  [19200/60000]\n",
            "loss: 1.295229  [25600/60000]\n",
            "loss: 1.600635  [32000/60000]\n",
            "loss: 1.285805  [38400/60000]\n",
            "loss: 1.435041  [44800/60000]\n",
            "loss: 1.562198  [51200/60000]\n",
            "loss: 1.338092  [57600/60000]\n",
            "Test Error: \n",
            " Accuracy: 46.0%, Avg loss: 1.491053 \n",
            "\n",
            "Epoch 4\n",
            "-------------------------------\n",
            "loss: 1.561458  [    0/60000]\n",
            "loss: 1.559794  [ 6400/60000]\n",
            "loss: 1.524607  [12800/60000]\n",
            "loss: 1.538106  [19200/60000]\n",
            "loss: 1.293105  [25600/60000]\n",
            "loss: 1.598740  [32000/60000]\n",
            "loss: 1.283571  [38400/60000]\n",
            "loss: 1.433969  [44800/60000]\n",
            "loss: 1.560811  [51200/60000]\n",
            "loss: 1.336578  [57600/60000]\n",
            "Test Error: \n",
            " Accuracy: 46.1%, Avg loss: 1.489525 \n",
            "\n",
            "Epoch 5\n",
            "-------------------------------\n",
            "loss: 1.559739  [    0/60000]\n",
            "loss: 1.558022  [ 6400/60000]\n",
            "loss: 1.523017  [12800/60000]\n",
            "loss: 1.536047  [19200/60000]\n",
            "loss: 1.290980  [25600/60000]\n",
            "loss: 1.596961  [32000/60000]\n",
            "loss: 1.281441  [38400/60000]\n",
            "loss: 1.432929  [44800/60000]\n",
            "loss: 1.559592  [51200/60000]\n",
            "loss: 1.335120  [57600/60000]\n",
            "Test Error: \n",
            " Accuracy: 46.1%, Avg loss: 1.488089 \n",
            "\n",
            "Epoch 6\n",
            "-------------------------------\n",
            "loss: 1.558213  [    0/60000]\n",
            "loss: 1.556352  [ 6400/60000]\n",
            "loss: 1.521591  [12800/60000]\n",
            "loss: 1.534028  [19200/60000]\n",
            "loss: 1.288994  [25600/60000]\n",
            "loss: 1.595255  [32000/60000]\n",
            "loss: 1.279413  [38400/60000]\n",
            "loss: 1.431965  [44800/60000]\n",
            "loss: 1.558345  [51200/60000]\n",
            "loss: 1.333756  [57600/60000]\n",
            "Test Error: \n",
            " Accuracy: 46.1%, Avg loss: 1.486742 \n",
            "\n",
            "Epoch 7\n",
            "-------------------------------\n",
            "loss: 1.556620  [    0/60000]\n",
            "loss: 1.554748  [ 6400/60000]\n",
            "loss: 1.520190  [12800/60000]\n",
            "loss: 1.531981  [19200/60000]\n",
            "loss: 1.287092  [25600/60000]\n",
            "loss: 1.593645  [32000/60000]\n",
            "loss: 1.277609  [38400/60000]\n",
            "loss: 1.431067  [44800/60000]\n",
            "loss: 1.557120  [51200/60000]\n",
            "loss: 1.332467  [57600/60000]\n",
            "Test Error: \n",
            " Accuracy: 46.1%, Avg loss: 1.485475 \n",
            "\n",
            "Epoch 8\n",
            "-------------------------------\n",
            "loss: 1.555099  [    0/60000]\n",
            "loss: 1.553226  [ 6400/60000]\n",
            "loss: 1.518894  [12800/60000]\n",
            "loss: 1.529989  [19200/60000]\n",
            "loss: 1.285214  [25600/60000]\n",
            "loss: 1.592101  [32000/60000]\n",
            "loss: 1.275845  [38400/60000]\n",
            "loss: 1.430226  [44800/60000]\n",
            "loss: 1.555919  [51200/60000]\n",
            "loss: 1.331285  [57600/60000]\n",
            "Test Error: \n",
            " Accuracy: 46.2%, Avg loss: 1.484280 \n",
            "\n",
            "Epoch 9\n",
            "-------------------------------\n",
            "loss: 1.553599  [    0/60000]\n",
            "loss: 1.551770  [ 6400/60000]\n",
            "loss: 1.517670  [12800/60000]\n",
            "loss: 1.528054  [19200/60000]\n",
            "loss: 1.283312  [25600/60000]\n",
            "loss: 1.590670  [32000/60000]\n",
            "loss: 1.274047  [38400/60000]\n",
            "loss: 1.429417  [44800/60000]\n",
            "loss: 1.554756  [51200/60000]\n",
            "loss: 1.330196  [57600/60000]\n",
            "Test Error: \n",
            " Accuracy: 46.2%, Avg loss: 1.483150 \n",
            "\n",
            "Epoch 10\n",
            "-------------------------------\n",
            "loss: 1.552030  [    0/60000]\n",
            "loss: 1.550406  [ 6400/60000]\n",
            "loss: 1.516542  [12800/60000]\n",
            "loss: 1.526145  [19200/60000]\n",
            "loss: 1.281537  [25600/60000]\n",
            "loss: 1.589259  [32000/60000]\n",
            "loss: 1.272277  [38400/60000]\n",
            "loss: 1.428655  [44800/60000]\n",
            "loss: 1.553638  [51200/60000]\n",
            "loss: 1.329159  [57600/60000]\n",
            "Test Error: \n",
            " Accuracy: 46.3%, Avg loss: 1.482076 \n",
            "\n",
            "Done!\n"
          ]
        }
      ],
      "source": [
        "loss_fn = nn.CrossEntropyLoss()\n",
        "optimizer = torch.optim.SGD(model.parameters(), lr=learning_rate)\n",
        "epochs = 10\n",
        "\n",
        "for t in range(epochs):\n",
        "    print(f\"Epoch {t+1}\\n-------------------------------\")\n",
        "    train_loop(train_dataloader, model, loss_fn, optimizer)\n",
        "    test_loop(test_dataloader, model, loss_fn)\n",
        "print(\"Done!\")"
      ]
    },
    {
      "cell_type": "markdown",
      "metadata": {
        "id": "6E18jjmHs8ew"
      },
      "source": [
        "### Now you have trained a Neural Network to classify the Fashion MNist dataset ###"
      ]
    },
    {
      "cell_type": "markdown",
      "metadata": {
        "id": "5GXzBPk0s8ew"
      },
      "source": [
        "### What should you do next?? ###\n",
        "\n",
        "- Experiment with other functionalities for Tensors and nn.Modules.\n",
        "- Play with the model's parameters --> Change sizes, change activation functions, change optimizer, etc. Try different things to get a grasp of how they behave/react\n",
        "- Try using the model to predict unseen clothes (Remember to deactivate the gradient in the model, and to transform the data to what the model expects). Upload your own images to see how it perform.\n",
        "- Try using another dataset with all you have learned thus far (might need to read a bit more on dataset and dataloaders: https://pytorch.org/tutorials/beginner/basics/data_tutorial.html and the link in the specific notebook) to classify something else. It does not need to be images, it can be whatever you want; try using basic tabular data.\n",
        "    - Check also the other datasets they have already available in Pytorch (Image datasets: https://pytorch.org/vision/stable/datasets.html)\n",
        "    - You can also try using the example dataset of the tool EDD (Evolutionary Dungeon Designer) - the labels (0 ... 11) correspond to automatically assigned clusters (https://arxiv.org/pdf/2004.01697.pdf). You got the work started in the respective notebook (dataset_dataloaders)"
      ]
    },
    {
      "cell_type": "code",
      "execution_count": null,
      "metadata": {
        "id": "Ser8gQ6qs8ex"
      },
      "outputs": [],
      "source": [
        ""
      ]
    }
  ],
  "metadata": {
    "kernelspec": {
      "display_name": "Python 3",
      "language": "python",
      "name": "python3"
    },
    "language_info": {
      "codemirror_mode": {
        "name": "ipython",
        "version": 3
      },
      "file_extension": ".py",
      "mimetype": "text/x-python",
      "name": "python",
      "nbconvert_exporter": "python",
      "pygments_lexer": "ipython3",
      "version": "3.8.2"
    },
    "colab": {
      "name": "4-all-together.ipynb",
      "provenance": [],
      "include_colab_link": true
    },
    "accelerator": "GPU"
  },
  "nbformat": 4,
  "nbformat_minor": 0
}