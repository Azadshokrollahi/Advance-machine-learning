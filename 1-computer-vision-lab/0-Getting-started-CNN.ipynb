{
 "cells": [
  {
   "cell_type": "markdown",
   "metadata": {},
   "source": [
    "## Computer Vision Lab ##\n",
    "\n",
    "Through these notebooks, we will explore different important techniques, approaches, and uses of deep learning (especially Convolutional Neural Networks) for addressing computer vision labs.\n",
    "\n",
    "We will explore the following:\n",
    "\n",
    "- How to create a CNN to classify digits using MNIST dataset\n",
    "- Use transfer learning concepts to fine-tune pretrained models included in Pytorch\n",
    "- Different visualization techniques\n",
    "- Semantic segmentation"
   ]
  },
  {
   "cell_type": "markdown",
   "metadata": {},
   "source": [
    "### Assignments ###\n",
    "\n",
    "#### Mandatory: ####\n",
    "\n",
    "- Compare CNN with an MLP\n",
    "- Calculate, plot, analyse, and compare different metrics \n",
    "    - Loss, Accuracy, Precision, Recall, F1-score (when possible) --> Precision, recall, and F1-score are normally used in binary classification\n",
    "- Fine-tune pretrained models:\n",
    "    - by freezing weights\n",
    "    - reconstructing the layers\n",
    "- Data augmentation and pre-process\n",
    "    - For example dataset (bees and ants)\n",
    "    - For image (mario level)\n",
    "    \n",
    "#### Advanced: ####\n",
    "\n",
    "- Segmentation:\n",
    "    - Use Mask R-CNN (or other type of network) to do instance segmentation \n",
    "- CNN Visualization\n",
    "    - Apply occlusion to gather heatmap\n",
    "    - Do either:\n",
    "        - Visualize through Saliency maps (vanilla backpropagation saliency, or Grad-CAM, or Score-CAM)\n",
    "        - **OR**\n",
    "        - Visualize a pre-trained model with Deconvnets\n",
    "        \n",
    "#### Optional/if wanted: ####\n",
    "- Apply CNN to video data "
   ]
  },
  {
   "cell_type": "code",
   "execution_count": 43,
   "metadata": {},
   "outputs": [],
   "source": [
    "import torch\n",
    "import torch.nn as nn\n",
    "import torch.nn.functional as F\n",
    "import torch.optim as optim\n",
    "from torchvision import datasets, transforms\n",
    "import matplotlib.pyplot as plt\n",
    "import numpy as np"
   ]
  },
  {
   "cell_type": "code",
   "execution_count": 44,
   "metadata": {},
   "outputs": [],
   "source": [
    "device = torch.device(\"cuda:0\" if torch.cuda.is_available() else \"cpu\")"
   ]
  },
  {
   "cell_type": "markdown",
   "metadata": {},
   "source": [
    "# Load the Dataset (MNIST)\n",
    "\n",
    "We will use the pytorch dataset and dataloader as seen in the previous lab. We will apply some needed transformation to the data"
   ]
  },
  {
   "cell_type": "code",
   "execution_count": 45,
   "metadata": {},
   "outputs": [],
   "source": [
    "input_size  = 28*28   # images are 28x28 pixels\n",
    "output_size = 10      # there are 10 classes (0 to 9)\n",
    "\n",
    "train_loader = torch.utils.data.DataLoader(\n",
    "    datasets.MNIST('../data', train=True, download=True,\n",
    "                   transform=transforms.Compose([\n",
    "                       transforms.ToTensor(),\n",
    "                       transforms.Normalize((0.1307,), (0.3081,))\n",
    "                   ])),\n",
    "    batch_size=64, shuffle=True)\n",
    "\n",
    "test_loader = torch.utils.data.DataLoader(\n",
    "    datasets.MNIST('../data', train=False, download=True, transform=transforms.Compose([\n",
    "                       transforms.ToTensor(),\n",
    "                       transforms.Normalize((0.1307,), (0.3081,))\n",
    "                   ])),\n",
    "    batch_size=1000, shuffle=True)"
   ]
  },
  {
   "cell_type": "code",
   "execution_count": 46,
   "metadata": {},
   "outputs": [
    {
     "data": {
      "image/png": "[encoded data removed]",
      "text/plain": [
       "<Figure size 1152x432 with 10 Axes>"
      ]
     },
     "metadata": {
      "needs_background": "light"
     },
     "output_type": "display_data"
    }
   ],
   "source": [
    "# The MNIST dataset is the handwritten dataset.\n",
    "plt.figure(figsize=(16, 6))\n",
    "for i in range(10):\n",
    "    plt.subplot(2, 5, i + 1)\n",
    "    image, _ = train_loader.dataset[i]\n",
    "    plt.imshow(image.squeeze().numpy())\n",
    "    plt.axis('off');"
   ]
  },
  {
   "cell_type": "markdown",
   "metadata": {},
   "source": [
    "# Create the model classes"
   ]
  },
  {
   "cell_type": "code",
   "execution_count": 47,
   "metadata": {},
   "outputs": [],
   "source": [
    "class CNN(nn.Module):\n",
    "    def __init__(self, input_size, n_feature, output_size):\n",
    "        super(CNN, self).__init__()\n",
    "        self.n_feature = n_feature\n",
    "        self.conv1 = nn.Conv2d(in_channels=1, out_channels=n_feature, kernel_size=5)\n",
    "        self.conv2 = nn.Conv2d(n_feature, n_feature, kernel_size=5)\n",
    "        \n",
    "        self.flatten = nn.Flatten()\n",
    "        self.fc1 = nn.Linear(n_feature*4*4, 50)\n",
    "        self.fc2 = nn.Linear(50, 10)\n",
    "        \n",
    "    def forward(self, x, verbose=False):\n",
    "        # First CONV\n",
    "        x = self.conv1(x)\n",
    "        x = F.relu(x)\n",
    "        x = F.max_pool2d(x, kernel_size=2)\n",
    "        \n",
    "        # Second CONV\n",
    "        x = self.conv2(x)\n",
    "        x = F.relu(x)\n",
    "        x = F.max_pool2d(x, kernel_size=2)\n",
    "        \n",
    "#         x = x.view(-1, self.n_feature*4*4)\n",
    "        x = self.flatten(x)\n",
    "        x = self.fc1(x)\n",
    "        x = F.relu(x)\n",
    "        x = self.fc2(x)\n",
    "        x = F.log_softmax(x, dim=1)\n",
    "        return x"
   ]
  },
  {
   "cell_type": "markdown",
   "metadata": {},
   "source": [
    "## Lets go step by step ##"
   ]
  },
  {
   "cell_type": "code",
   "execution_count": 90,
   "metadata": {},
   "outputs": [
    {
     "name": "stdout",
     "output_type": "stream",
     "text": [
      "torch.Size([1, 1, 28, 28])\n"
     ]
    }
   ],
   "source": [
    "tensor = torch.rand([1, 1, 28, 28]) #Batch size, channel, width, height (what the network expect)\n",
    "print(tensor.shape)"
   ]
  },
  {
   "cell_type": "code",
   "execution_count": 91,
   "metadata": {},
   "outputs": [
    {
     "name": "stdout",
     "output_type": "stream",
     "text": [
      "after conv1:  torch.Size([1, 6, 24, 24])\n",
      "after relu1:  torch.Size([1, 6, 24, 24])\n",
      "after max_pooling_1:  torch.Size([1, 6, 12, 12])\n"
     ]
    }
   ],
   "source": [
    "conv_1 = nn.Conv2d(in_channels=1, out_channels=6, kernel_size=5)\n",
    "relu_1 = F.relu\n",
    "max_pool_1 = nn.MaxPool2d(kernel_size=2)\n",
    "\n",
    "result = conv_1(tensor)\n",
    "print(\"after conv1: \", result.shape) \n",
    "#Tensor is reshaped from [1, 1, 28, 28] to [1, 6, 24, 24]\n",
    "# 6 are the number of out_channels specified\n",
    "# and it reduces w and h to 24, 24 because of the kernel_size (kernel_size - 1) and stride (stride = 1)\n",
    "\n",
    "result = relu_1(result)\n",
    "print(\"after relu1: \", result.shape)\n",
    "\n",
    "result = max_pool_1(result)\n",
    "print(\"after max_pooling_1: \", result.shape) \n",
    "# tensor is reshaped from [1, 6, 24, 24] to [1, 6, 12, 12]\n",
    "# max pooling downsamples dividing by kernel_size"
   ]
  },
  {
   "cell_type": "code",
   "execution_count": 92,
   "metadata": {},
   "outputs": [
    {
     "name": "stdout",
     "output_type": "stream",
     "text": [
      "after conv2:  torch.Size([1, 6, 8, 8])\n",
      "after relu2:  torch.Size([1, 6, 8, 8])\n",
      "after max_pooling_2:  torch.Size([1, 6, 4, 4])\n",
      "shape is [1, 6*4*4]:  96\n"
     ]
    }
   ],
   "source": [
    "conv_2 = nn.Conv2d(in_channels=6, out_channels=6, kernel_size=5)\n",
    "relu_2 = F.relu\n",
    "max_pool_2 = nn.MaxPool2d(kernel_size=2)\n",
    "\n",
    "result = conv_2(result)\n",
    "print(\"after conv2: \", result.shape)\n",
    "\n",
    "result = relu_2(result)\n",
    "print(\"after relu2: \", result.shape)\n",
    "\n",
    "result = max_pool_2(result)\n",
    "print(\"after max_pooling_2: \", result.shape)\n",
    "print(\"shape is [1, 6*4*4]: \", 6*4*4)"
   ]
  },
  {
   "cell_type": "code",
   "execution_count": 95,
   "metadata": {},
   "outputs": [
    {
     "name": "stdout",
     "output_type": "stream",
     "text": [
      "after flattening:  torch.Size([1, 96])\n",
      "after view:  torch.Size([1, 96])\n"
     ]
    }
   ],
   "source": [
    "flatten_operation = nn.Flatten()\n",
    "\n",
    "result_flattened = flatten_operation(result)\n",
    "print(\"after flattening: \", result_flattened.shape)\n",
    "\n",
    "result_with_view = result.view(-1, 6*4*4)\n",
    "print(\"after view: \", result_with_view.shape)"
   ]
  },
  {
   "cell_type": "markdown",
   "metadata": {},
   "source": [
    "## Train and Test loop"
   ]
  },
  {
   "cell_type": "code",
   "execution_count": 48,
   "metadata": {},
   "outputs": [],
   "source": [
    "def train(epoch, model, perm=torch.arange(0, 784).long()):\n",
    "    model.train()\n",
    "    for batch_idx, (data, target) in enumerate(train_loader):\n",
    "        # send to device\n",
    "        data, target = data.to(device), target.to(device)\n",
    "        \n",
    "        # permute pixels\n",
    "        data = data.view(-1, 28*28)\n",
    "        data = data[:, perm]\n",
    "        data = data.view(-1, 1, 28, 28)\n",
    "\n",
    "        optimizer.zero_grad()\n",
    "        output = model(data)\n",
    "        loss = F.nll_loss(output, target)\n",
    "        loss.backward()\n",
    "        optimizer.step()\n",
    "        if batch_idx % 100 == 0:\n",
    "            print('Train Epoch: {} [{}/{} ({:.0f}%)]\\tLoss: {:.6f}'.format(\n",
    "                epoch, batch_idx * len(data), len(train_loader.dataset),\n",
    "                100. * batch_idx / len(train_loader), loss.item()))"
   ]
  },
  {
   "cell_type": "code",
   "execution_count": 49,
   "metadata": {},
   "outputs": [],
   "source": [
    "accuracy_list = []\n",
    "loss_list = []\n",
    "\n",
    "def test(model, perm=torch.arange(0, 784).long()):\n",
    "    model.eval()\n",
    "    test_loss = 0\n",
    "    correct = 0\n",
    "    for data, target in test_loader:\n",
    "        # send to device\n",
    "        data, target = data.to(device), target.to(device)\n",
    "        \n",
    "        # permute pixels\n",
    "        data = data.view(-1, 28*28)\n",
    "        data = data[:, perm]\n",
    "        data = data.view(-1, 1, 28, 28)\n",
    "        output = model(data)\n",
    "        test_loss += F.nll_loss(output, target, reduction='sum').item() # sum up batch loss                                                               \n",
    "        pred = output.data.max(1, keepdim=True)[1] # get the index of the max log-probability                                                                 \n",
    "        correct += pred.eq(target.data.view_as(pred)).cpu().sum().item()\n",
    "\n",
    "    test_loss /= len(test_loader.dataset)\n",
    "    accuracy = 100. * correct / len(test_loader.dataset)\n",
    "    accuracy_list.append(accuracy)\n",
    "    loss_list.append(test_loss)\n",
    "    print('\\nTest set: Average loss: {:.4f}, Accuracy: {}/{} ({:.0f}%)\\n'.format(\n",
    "        test_loss, correct, len(test_loader.dataset),\n",
    "        accuracy))"
   ]
  },
  {
   "cell_type": "markdown",
   "metadata": {},
   "source": [
    "# Train a ConvNet with the same number of parameters"
   ]
  },
  {
   "cell_type": "code",
   "execution_count": 50,
   "metadata": {},
   "outputs": [
    {
     "name": "stdout",
     "output_type": "stream",
     "text": [
      "CNN(\n",
      "  (conv1): Conv2d(1, 6, kernel_size=(5, 5), stride=(1, 1))\n",
      "  (conv2): Conv2d(6, 6, kernel_size=(5, 5), stride=(1, 1))\n",
      "  (flatten): Flatten(start_dim=1, end_dim=-1)\n",
      "  (fc1): Linear(in_features=96, out_features=50, bias=True)\n",
      "  (fc2): Linear(in_features=50, out_features=10, bias=True)\n",
      ")\n",
      "Number of parameters: 6422\n",
      "Train Epoch: 0 [0/60000 (0%)]\tLoss: 2.270372\n",
      "Train Epoch: 0 [6400/60000 (11%)]\tLoss: 1.031919\n",
      "Train Epoch: 0 [12800/60000 (21%)]\tLoss: 0.645183\n",
      "Train Epoch: 0 [19200/60000 (32%)]\tLoss: 0.300279\n",
      "Train Epoch: 0 [25600/60000 (43%)]\tLoss: 0.439020\n",
      "Train Epoch: 0 [32000/60000 (53%)]\tLoss: 0.234015\n",
      "Train Epoch: 0 [38400/60000 (64%)]\tLoss: 0.249143\n",
      "Train Epoch: 0 [44800/60000 (75%)]\tLoss: 0.216947\n",
      "Train Epoch: 0 [51200/60000 (85%)]\tLoss: 0.174891\n",
      "Train Epoch: 0 [57600/60000 (96%)]\tLoss: 0.192092\n",
      "\n",
      "Test set: Average loss: 0.1666, Accuracy: 9482/10000 (95%)\n",
      "\n"
     ]
    }
   ],
   "source": [
    "# Training settings \n",
    "n_features = 6 # number of feature maps\n",
    "\n",
    "model_cnn = CNN(input_size, n_features, output_size)\n",
    "print(model_cnn)\n",
    "model_cnn.to(device)\n",
    "optimizer = optim.SGD(model_cnn.parameters(), lr=0.01, momentum=0.5)\n",
    "print('Number of parameters: {}'.format(sum(p.numel() for p in model_cnn.parameters() if p.requires_grad)))\n",
    "\n",
    "for epoch in range(0, 1):\n",
    "    train(epoch, model_cnn)\n",
    "    test(model_cnn)"
   ]
  },
  {
   "cell_type": "markdown",
   "metadata": {},
   "source": [
    "## PLOT Loss, Accuracy, and compare! ##"
   ]
  },
  {
   "cell_type": "code",
   "execution_count": null,
   "metadata": {},
   "outputs": [],
   "source": []
  },
  {
   "cell_type": "markdown",
   "metadata": {},
   "source": [
    "# Create and Train a small fully-connected network on the same task\n",
    "\n",
    "Compare and plot as well for it!"
   ]
  },
  {
   "cell_type": "code",
   "execution_count": null,
   "metadata": {},
   "outputs": [],
   "source": []
  },
  {
   "cell_type": "markdown",
   "metadata": {},
   "source": [
    "## Experiment ##\n",
    "\n",
    "### What happens when the data (imgs) does not make sense anymore - all assumptions are removed ###"
   ]
  },
  {
   "cell_type": "code",
   "execution_count": 41,
   "metadata": {},
   "outputs": [
    {
     "data": {
      "image/png": "[encoded data removed]",
      "text/plain": [
       "<Figure size 1152x864 with 20 Axes>"
      ]
     },
     "metadata": {
      "needs_background": "light"
     },
     "output_type": "display_data"
    }
   ],
   "source": [
    "perm = torch.randperm(784)\n",
    "plt.figure(figsize=(16, 12))\n",
    "for i in range(10):\n",
    "    image, _ = train_loader.dataset[i]\n",
    "    # permute pixels\n",
    "    image_perm = image.view(-1, 28*28).clone()\n",
    "    image_perm = image_perm[:, perm]\n",
    "    image_perm = image_perm.view(-1, 1, 28, 28)\n",
    "    plt.subplot(4, 5, i + 1)\n",
    "    plt.imshow(image.squeeze().numpy())\n",
    "    plt.axis('off')\n",
    "    plt.subplot(4, 5, i + 11)\n",
    "    plt.imshow(image_perm.squeeze().numpy())\n",
    "    plt.axis('off')"
   ]
  },
  {
   "cell_type": "code",
   "execution_count": 42,
   "metadata": {},
   "outputs": [
    {
     "name": "stdout",
     "output_type": "stream",
     "text": [
      "Train Epoch: 0 [0/60000 (0%)]\tLoss: 2.325107\n",
      "Train Epoch: 0 [6400/60000 (11%)]\tLoss: 2.301648\n",
      "Train Epoch: 0 [12800/60000 (21%)]\tLoss: 2.230310\n",
      "Train Epoch: 0 [19200/60000 (32%)]\tLoss: 2.034980\n",
      "Train Epoch: 0 [25600/60000 (43%)]\tLoss: 1.478699\n",
      "Train Epoch: 0 [32000/60000 (53%)]\tLoss: 0.947375\n",
      "Train Epoch: 0 [38400/60000 (64%)]\tLoss: 0.639090\n",
      "Train Epoch: 0 [44800/60000 (75%)]\tLoss: 0.743404\n",
      "Train Epoch: 0 [51200/60000 (85%)]\tLoss: 0.561398\n",
      "Train Epoch: 0 [57600/60000 (96%)]\tLoss: 0.500244\n",
      "\n",
      "Test set: Average loss: 0.5296, Accuracy: 8387/10000 (84%)\n",
      "\n"
     ]
    }
   ],
   "source": [
    "# Training settings \n",
    "n_features = 6 # number of feature maps\n",
    "\n",
    "model_cnn = CNN(input_size, n_features, output_size)\n",
    "model_cnn.to(device)\n",
    "optimizer = optim.SGD(model_cnn.parameters(), lr=0.01, momentum=0.5)\n",
    "\n",
    "for epoch in range(0, 1):\n",
    "    train(epoch, model_cnn, perm)\n",
    "    test(model_cnn, perm)"
   ]
  },
  {
   "cell_type": "markdown",
   "metadata": {},
   "source": [
    "## Do the same with the MLP ##"
   ]
  },
  {
   "cell_type": "code",
   "execution_count": null,
   "metadata": {},
   "outputs": [],
   "source": [
    "# create network, train, compare!"
   ]
  },
  {
   "cell_type": "markdown",
   "metadata": {},
   "source": [
    "## What to do next? ##\n",
    "\n",
    "- Change the task\n",
    "- upload your handwriten work.\n",
    "- Fine-tune the network so it learn your handwritting?"
   ]
  },
  {
   "cell_type": "code",
   "execution_count": null,
   "metadata": {},
   "outputs": [],
   "source": []
  }
 ],
 "metadata": {
  "kernelspec": {
   "display_name": "Python [conda env:pDL] *",
   "language": "python",
   "name": "conda-env-pDL-py"
  },
  "language_info": {
   "codemirror_mode": {
    "name": "ipython",
    "version": 3
   },
   "file_extension": ".py",
   "mimetype": "text/x-python",
   "name": "python",
   "nbconvert_exporter": "python",
   "pygments_lexer": "ipython3",
   "version": "3.8.2"
  }
 },
 "nbformat": 4,
 "nbformat_minor": 4
}
