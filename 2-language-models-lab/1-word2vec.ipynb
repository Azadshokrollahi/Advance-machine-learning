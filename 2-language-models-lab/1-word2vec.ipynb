{
 "cells": [
  {
   "cell_type": "markdown",
   "metadata": {},
   "source": [
    "## Word2Vec ## \n",
    "\n",
    "In this notebook we will go through the step by step creation of the Continouous Bag Of Words (CBOW).\n",
    "CBOW is an embedded model that makes use of a \"fake task\" -> [within short window, predict the current word] to extract a vector that shows the relationship between words."
   ]
  },
  {
   "cell_type": "markdown",
   "metadata": {},
   "source": [
    "### Continuous Bag Of Words ###\n",
    "\n",
    "Adapted from Robert Guthrie"
   ]
  },
  {
   "cell_type": "code",
   "execution_count": 123,
   "metadata": {},
   "outputs": [],
   "source": [
    "import math\n",
    "import torch\n",
    "import torch.nn as nn\n",
    "import torch.nn.functional as F\n",
    "import torch.optim as optim\n",
    "import torch.linalg"
   ]
  },
  {
   "cell_type": "code",
   "execution_count": 3,
   "metadata": {},
   "outputs": [],
   "source": [
    "device = torch.device(\"cuda\" if torch.cuda.is_available() else \"cpu\")\n",
    "# device = \"cpu\""
   ]
  },
  {
   "cell_type": "code",
   "execution_count": 4,
   "metadata": {},
   "outputs": [
    {
     "name": "stdout",
     "output_type": "stream",
     "text": [
      "152\n",
      "106\n"
     ]
    }
   ],
   "source": [
    "# CBOW is a window view; we are trying to infer the word in the middle.\n",
    "CONTEXT_SIZE = 2  # 2 words to the left, 2 to the right\n",
    "\n",
    "raw_text= \"\"\"Long Short-Term Memory (LSTM) is a recurrent neural network (RNN) architecture that has been designed\n",
    "to address the vanishing and exploding gradient problems of conventional RNNs. Unlike feedforward neural networks,\n",
    "RNNs have cyclic connections making them powerful for modeling sequences. \n",
    "They have been successfully used for sequence labeling and sequence prediction tasks,\n",
    "such as handwriting recognition, language modeling, phonetic labeling of acoustic frames. However, in contrast to the deep neural\n",
    "networks, the use of RNNs in speech recognition has been limited to phone recognition in small scale tasks. \n",
    "In this paper, we present novel LSTM based RNN architectures which make more effective\n",
    "use of model parameters to train acoustic models for large vocabulary speech recognition. \n",
    "We train and compare LSTM, RNN and DNN models at various numbers of parameters and configurations.\n",
    "We show that LSTM models converge quickly and give state of the art speech recognition performance for relatively small sized models.\"\"\".split()\n",
    "\n",
    "# By deriving a set from \"raw_text\", we deduplicate the array\n",
    "vocab = set(raw_text)\n",
    "vocab_size = len(vocab)\n",
    "\n",
    "# Basic Tokenizer\n",
    "word_to_ix = {word: i for i, word in enumerate(vocab)}\n",
    "\n",
    "print(len(raw_text))\n",
    "print(vocab_size)"
   ]
  },
  {
   "cell_type": "code",
   "execution_count": 5,
   "metadata": {},
   "outputs": [
    {
     "name": "stdout",
     "output_type": "stream",
     "text": [
      "[(['Long', 'Short-Term', '(LSTM)', 'is'], 'Memory'), (['Short-Term', 'Memory', 'is', 'a'], '(LSTM)'), (['Memory', '(LSTM)', 'a', 'recurrent'], 'is'), (['(LSTM)', 'is', 'recurrent', 'neural'], 'a'), (['is', 'a', 'neural', 'network'], 'recurrent')]\n"
     ]
    }
   ],
   "source": [
    "# Now lets create a \"dataset\"\n",
    "data = []\n",
    "for i in range(CONTEXT_SIZE, len(raw_text) - CONTEXT_SIZE):\n",
    "    context = []\n",
    "    for j in range(CONTEXT_SIZE, 0, -1):\n",
    "        context.append(raw_text[i - j])\n",
    "\n",
    "    for j in range(1, CONTEXT_SIZE + 1):\n",
    "        context.append(raw_text[i + j])\n",
    "        \n",
    "    target = raw_text[i]\n",
    "    data.append((context, target))\n",
    "print(data[:5])\n"
   ]
  },
  {
   "cell_type": "markdown",
   "metadata": {},
   "source": [
    "### Create the CBOW Model (as we have seen already other ANN) ###\n",
    "\n",
    "We have to extend from nn.Module as all the other ANN"
   ]
  },
  {
   "cell_type": "code",
   "execution_count": 81,
   "metadata": {},
   "outputs": [],
   "source": [
    "class CBOW(nn.Module):\n",
    "\n",
    "    def __init__(self, vocab_size, embed_dim, context, hidden_size):\n",
    "        super(CBOW, self).__init__()\n",
    "        self.embedding = nn.Embedding(vocab_size, embed_dim)\n",
    "        self.linear = nn.Sequential(\n",
    "            nn.Linear(context*embed_dim, hidden_size),\n",
    "            nn.ReLU(),\n",
    "            nn.Linear(hidden_size, vocab_size),\n",
    "            nn.LogSoftmax(dim = -1)\n",
    "        )\n",
    "        \n",
    "    def forward(self, inputs):\n",
    "#         print(inputs.shape)\n",
    "#         print(inputs)\n",
    "        out = self.embedding(inputs)\n",
    "#         print(out.shape)\n",
    "        out = out.view(1, -1)\n",
    "#         print(out.shape)\n",
    "        out = self.linear(out)\n",
    "#         print(out.shape)\n",
    "        return out\n",
    "    \n",
    "    # This is what we are actually interested on\n",
    "    def get_word_vector(self, word):\n",
    "        out = self.embedding(word)\n",
    "        return out\n"
   ]
  },
  {
   "cell_type": "markdown",
   "metadata": {},
   "source": [
    "#### Lets break it down! ####"
   ]
  },
  {
   "cell_type": "code",
   "execution_count": 73,
   "metadata": {},
   "outputs": [
    {
     "name": "stdout",
     "output_type": "stream",
     "text": [
      "tensor([[ 46,  48,  71,  82],\n",
      "        [ 31,   8,  91,  35],\n",
      "        [ 75,  71, 104, 104],\n",
      "        [ 38,  13,  93,  55],\n",
      "        [ 20,  36,  83,  57],\n",
      "        [ 61,  91,  47,  72]])\n"
     ]
    }
   ],
   "source": [
    "VOCAB_SIZE = len(vocab)\n",
    "EMBEDD_DIM = 10\n",
    "BATCH_SIZE = 6\n",
    "FULL_CONTEXT_SIZE = CONTEXT_SIZE * 2\n",
    "HIDDEN_SIZE = 256\n",
    "\n",
    "example_tensor = torch.randint(0, VOCAB_SIZE, [BATCH_SIZE, FULL_CONTEXT_SIZE])\n",
    "print(example_tensor)"
   ]
  },
  {
   "cell_type": "code",
   "execution_count": 74,
   "metadata": {},
   "outputs": [
    {
     "name": "stdout",
     "output_type": "stream",
     "text": [
      "torch.Size([6, 4, 10])\n",
      "torch.Size([6, 40])\n"
     ]
    }
   ],
   "source": [
    "CBOW_embedding = nn.Embedding(VOCAB_SIZE, EMBEDD_DIM)\n",
    "example_result = CBOW_embedding(example_tensor)\n",
    "# Now we have a representation of the words in a vector of EMBEDD_DIM Dimensions\n",
    "print(example_result.shape)\n",
    "# example_result = torch.flatten(example_result, start_dim=1)\n",
    "example_result = example_result.view(BATCH_SIZE, -1)\n",
    "print(example_result.shape)"
   ]
  },
  {
   "cell_type": "code",
   "execution_count": 75,
   "metadata": {},
   "outputs": [
    {
     "name": "stdout",
     "output_type": "stream",
     "text": [
      "torch.Size([6, 256])\n"
     ]
    }
   ],
   "source": [
    "CBOW_hidden = nn.Linear(EMBEDD_DIM * FULL_CONTEXT_SIZE, HIDDEN_SIZE)\n",
    "CBOW_hidden_relu = nn.ReLU()\n",
    "example_result = CBOW_hidden(example_result)\n",
    "example_result = CBOW_hidden_relu(example_result)\n",
    "print(example_result.shape)"
   ]
  },
  {
   "cell_type": "code",
   "execution_count": 76,
   "metadata": {},
   "outputs": [
    {
     "name": "stdout",
     "output_type": "stream",
     "text": [
      "torch.Size([6, 106])\n"
     ]
    }
   ],
   "source": [
    "CBOW_output = nn.Linear(HIDDEN_SIZE, VOCAB_SIZE)\n",
    "CBOW_output_soft = nn.LogSoftmax(dim = -1)\n",
    "example_result = CBOW_output(example_result)\n",
    "example_result = CBOW_output_soft(example_result)\n",
    "print(example_result.shape)"
   ]
  },
  {
   "cell_type": "code",
   "execution_count": null,
   "metadata": {},
   "outputs": [],
   "source": [
    "print(example_result[0].argmax(-1))\n",
    "print(example_result[0])\n",
    "print(example_result[1].argmax(-1))\n",
    "print(example_result[1])\n",
    "# print(example_result[2].argmax(-1))\n",
    "# print(example_result[3].argmax(-1))\n",
    "# print(example_result[4].argmax(-1))"
   ]
  },
  {
   "cell_type": "markdown",
   "metadata": {},
   "source": [
    "## Back to the notebook ##"
   ]
  },
  {
   "cell_type": "code",
   "execution_count": 67,
   "metadata": {},
   "outputs": [
    {
     "data": {
      "text/plain": [
       "tensor([42, 17, 18, 16])"
      ]
     },
     "execution_count": 67,
     "metadata": {},
     "output_type": "execute_result"
    }
   ],
   "source": [
    "# Simple helper method to transform the context to the expected int vector - tensor\n",
    "\n",
    "def make_context_vector(context, word_to_ix):\n",
    "    idxs = [word_to_ix[w] for w in context]\n",
    "    return torch.tensor(idxs, dtype=torch.long)\n",
    "\n",
    "make_context_vector(data[0][0], word_to_ix)"
   ]
  },
  {
   "cell_type": "code",
   "execution_count": 84,
   "metadata": {},
   "outputs": [],
   "source": [
    "def train(model, epochs, data, optimizer, loss_fn):\n",
    "    model.train()\n",
    "    losses = []\n",
    "    for epoch in range(epochs):\n",
    "        total_loss = 0\n",
    "        for context, target in data:\n",
    "\n",
    "            # Prepare inputs and targets \n",
    "            context_idxs = make_context_vector(context, word_to_ix)\n",
    "            context_idxs = context_idxs.to(device)\n",
    "            target_id = make_context_vector([target], word_to_ix)\n",
    "            target_id = target_id.to(device)\n",
    "\n",
    "            # Do not accumulate \n",
    "            model.zero_grad()\n",
    "\n",
    "            # Step 3. Run the forward pass\n",
    "            log_probs = model(context_idxs)\n",
    "    #         break\n",
    "\n",
    "            # Step 4. Compute your loss function.\n",
    "            loss = loss_fn(log_probs, target_id)\n",
    "\n",
    "    #         loss = loss_function(log_probs, torch.tensor([word_to_ix[target]], dtype=torch.long))\n",
    "\n",
    "            # Step 5. Do the backward pass and update the gradient\n",
    "            loss.backward()\n",
    "            optimizer.step()\n",
    "\n",
    "            # Get the Python number from a 1-element Tensor by calling tensor.item()\n",
    "            total_loss += loss.item()\n",
    "        losses.append(total_loss)\n",
    "    return losses\n",
    "    "
   ]
  },
  {
   "cell_type": "code",
   "execution_count": 89,
   "metadata": {},
   "outputs": [
    {
     "name": "stdout",
     "output_type": "stream",
     "text": [
      "[696.5972113609314, 678.6440272331238, 661.0250015258789, 643.6891214847565, 626.551920413971, 609.5273694992065, 592.5818631649017, 575.6146259307861, 558.5555694103241, 541.424782037735, 524.150771856308, 506.76698112487793, 489.22852849960327, 471.51746213436127, 453.651718378067, 435.65873551368713, 417.6132471561432, 399.55955266952515, 381.5333827137947, 363.6071745157242, 345.8852111697197, 328.35029405355453, 311.14308059215546, 294.26297229528427, 277.73830410838127, 261.67301827669144, 246.00040137767792, 230.85667979717255, 216.22003930807114, 202.10425731539726, 188.5764691233635, 175.66035671532154, 163.35714533925056, 151.68355305492878, 140.6795081049204, 130.3289245069027, 120.63639613986015, 111.61663365364075, 103.23484632372856, 95.48107351362705, 88.3556726127863, 81.80075863003731, 75.80456222593784, 70.32591821998358, 65.3350954130292, 60.78870560973883, 56.65737347304821, 52.902972377836704, 49.48699953407049, 46.38765508681536, 43.56186733394861, 40.991278290748596, 38.6464881002903, 36.50500540435314, 34.5452815964818, 32.749048195779324, 31.101460561156273, 29.587245177477598, 28.190785873681307, 26.90110106393695, 25.708075743168592, 24.60310662165284, 23.57563889399171, 22.62134839221835, 21.731712505221367, 20.901043485850096, 20.12481029331684, 19.397837914526463, 18.71552113071084, 18.074707627296448, 17.47197137400508, 16.903300270438194, 16.367703713476658, 15.86098738759756, 15.382548417896032, 14.928182240575552, 14.498445812612772, 14.090740080922842, 13.702400963753462, 13.33332585170865, 12.98156514391303, 12.647393437102437, 12.327691683545709, 12.022108938544989, 11.731128793209791, 11.451976897194982, 11.184735862538218, 10.92882889136672, 10.683370226994157, 10.447860160842538, 10.221459582448006, 10.004243973642588, 9.795166034251451, 9.594062684103847, 9.400222267955542, 9.213872160762548, 9.033737257122993, 8.860437070950866, 8.692846553400159, 8.531066045165062]\n"
     ]
    }
   ],
   "source": [
    "VOCAB_SIZE = len(vocab)\n",
    "EMBEDD_DIM = 10\n",
    "BATCH_SIZE = 6\n",
    "FULL_CONTEXT_SIZE = CONTEXT_SIZE * 2\n",
    "HIDDEN_SIZE = 256\n",
    "\n",
    "loss_function = nn.NLLLoss() # Because we are using Log_softmax\n",
    "model = CBOW(vocab_size, EMBEDD_DIM, FULL_CONTEXT_SIZE, HIDDEN_SIZE)\n",
    "model = model.to(device)\n",
    "optimizer = optim.SGD(model.parameters(), lr=0.001)\n",
    "\n",
    "losses = train(model, 100, data, optimizer, loss_function)\n",
    "model.eval()\n",
    "\n",
    "print(losses)  # The loss decreased every iteration over the training data!"
   ]
  },
  {
   "cell_type": "code",
   "execution_count": 90,
   "metadata": {},
   "outputs": [],
   "source": [
    "# list out keys and values separately\n",
    "key_list = list(word_to_ix.keys())\n",
    "val_list = list(word_to_ix.values())"
   ]
  },
  {
   "cell_type": "code",
   "execution_count": 124,
   "metadata": {},
   "outputs": [],
   "source": [
    "def similarity_cbow(word_1, word_2):\n",
    "    \n",
    "    # test word similarity\n",
    "    print(word_1)\n",
    "    print(word_2)\n",
    "    w1_id = torch.tensor(word_to_ix[word_1], dtype=torch.long)\n",
    "    w2_id = torch.tensor(word_to_ix[word_2], dtype=torch.long)\n",
    "    w1_id = w1_id.to(device)\n",
    "    w2_id = w2_id.to(device)\n",
    "    \n",
    "    word_1_vec = model.get_word_vector(w1_id)\n",
    "    word_2_vec = model.get_word_vector(w2_id)\n",
    "    \n",
    "    # The norm of a vector (1D-matrix) is the square root of the sum of all the squared values within the vector.\n",
    "    print(math.sqrt(torch.square(word_1_vec).sum()))    \n",
    "    print(torch.linalg.norm(word_1_vec))\n",
    "    print(torch.linalg.norm(word_2_vec))\n",
    "    print(word_1_vec.dot(word_2_vec))\n",
    "    \n",
    "    word_distance = torch.linalg.norm(word_1_vec - word_2_vec)\n",
    "    print(\"Distance between '{}' & '{}' : {:0.4f}\".format(word_1, word_2, word_distance))\n",
    "    word_similarity = (word_1_vec.dot(word_2_vec) / (torch.linalg.norm(word_1_vec) * torch.linalg.norm(word_2_vec)))\n",
    "    print(\"Similarity between '{}' & '{}' : {:0.4f}\".format(word_1, word_2, word_similarity))\n"
   ]
  },
  {
   "cell_type": "code",
   "execution_count": 125,
   "metadata": {},
   "outputs": [
    {
     "name": "stdout",
     "output_type": "stream",
     "text": [
      "neural\n",
      "network\n",
      "tensor([ 0.2076, -0.0424,  0.5888, -0.0625, -0.7794, -0.1801, -0.0272,  1.7957,\n",
      "         0.7953,  0.3479,  0.4808,  1.2742,  0.6871, -0.4183, -0.3232,  0.4341,\n",
      "        -1.2627,  1.1616, -0.1575, -0.1678,  0.9859, -1.1165, -0.6372, -0.4816,\n",
      "         0.1562, -0.2067, -0.5760, -0.0451, -0.7968, -1.2478,  1.5327,  1.4881,\n",
      "         1.1850,  0.3563, -0.2198,  0.1695, -1.5062, -0.3973,  0.3329,  0.9101,\n",
      "         1.6492,  1.7647,  1.0924,  0.1652,  0.0163, -0.7732, -2.0355,  1.4072,\n",
      "         0.2335,  0.1503, -2.3697, -0.0857,  0.3338,  1.4116,  1.5788, -0.6132,\n",
      "         0.2489,  1.7742,  1.3969, -0.2054,  0.7654, -1.9056, -0.2014,  0.9156,\n",
      "        -0.8915, -0.7322,  0.5901,  0.5704,  1.0512, -0.6781,  0.2065, -1.2310,\n",
      "         0.4260, -0.8661,  0.3955, -0.4658,  0.7682,  0.5818, -0.2948,  0.7103,\n",
      "         2.1363, -0.9541,  0.0325,  0.4265,  0.4106, -0.0676, -1.7451,  0.1803,\n",
      "        -0.8166,  0.2234,  1.8481,  0.3842,  2.0214,  0.9471, -0.4326,  0.1007,\n",
      "         0.0577,  0.3580,  1.2204, -1.3211,  0.6676, -0.7693, -0.3038,  0.3378,\n",
      "         1.7648,  0.9795, -0.7243, -1.1806,  1.2383,  1.8144, -0.4298, -0.8392,\n",
      "        -1.0836, -0.8363, -0.1192,  0.5388,  0.6038,  1.1142,  0.3764, -0.0398,\n",
      "        -1.8628, -1.8841, -0.4678,  0.7209], grad_fn=<EmbeddingBackward>)\n",
      "124\n",
      "tensor(0.1268, grad_fn=<DivBackward0>)\n",
      "10.71744024432257\n",
      "tensor(10.7174, grad_fn=<CopyBackwards>)\n",
      "tensor(11.0981, grad_fn=<CopyBackwards>)\n",
      "tensor(17.4173, grad_fn=<DotBackward>)\n",
      "Distance between 'neural' & 'network' : 14.2547\n",
      "Similarity between 'neural' & 'network' : 0.1464\n"
     ]
    }
   ],
   "source": [
    "similarity_cbow(\"neural\", \"network\")"
   ]
  },
  {
   "cell_type": "code",
   "execution_count": 119,
   "metadata": {},
   "outputs": [],
   "source": [
    "def predict_middle_word(prev_words, post_words):\n",
    "    prev_words = prev_words.split()\n",
    "    post_words = post_words.split()\n",
    "\n",
    "    input_words= make_context_vector(prev_words + post_words, word_to_ix)\n",
    "    input_words = input_words.to(device)\n",
    "    output = model(input_words)\n",
    "    out_ind = output.argmax(1)\n",
    "#     print(word_to_ix)\n",
    "#     out_word = word_to_ix.itos[out_ind.item()]\n",
    "    out_word = key_list[val_list.index(out_ind.item())]\n",
    "    print(out_word)"
   ]
  },
  {
   "cell_type": "code",
   "execution_count": 120,
   "metadata": {},
   "outputs": [
    {
     "name": "stdout",
     "output_type": "stream",
     "text": [
      "neural\n",
      "a\n"
     ]
    }
   ],
   "source": [
    "predict_middle_word(\"a recurrent\", \"network is\")\n",
    "predict_middle_word(\"LSTM is\", \"recurrent neural\")"
   ]
  },
  {
   "cell_type": "markdown",
   "metadata": {},
   "source": [
    "### Now that you saw how to create the CBOW model (word2vec), you should work on doing the \"opposite\" model, Skip-Gram ###\n",
    "\n",
    "Skip-gram as you saw on the lectures, reverses the problem so you need to predict through the \"fake task\" the context of the input"
   ]
  },
  {
   "cell_type": "code",
   "execution_count": null,
   "metadata": {},
   "outputs": [],
   "source": []
  }
 ],
 "metadata": {
  "kernelspec": {
   "display_name": "Python [conda env:pDL] *",
   "language": "python",
   "name": "conda-env-pDL-py"
  },
  "language_info": {
   "codemirror_mode": {
    "name": "ipython",
    "version": 3
   },
   "file_extension": ".py",
   "mimetype": "text/x-python",
   "name": "python",
   "nbconvert_exporter": "python",
   "pygments_lexer": "ipython3",
   "version": "3.8.2"
  }
 },
 "nbformat": 4,
 "nbformat_minor": 4
}
