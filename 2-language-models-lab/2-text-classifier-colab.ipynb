{
  "cells": [
    {
      "cell_type": "markdown",
      "metadata": {
        "id": "view-in-github",
        "colab_type": "text"
      },
      "source": [
        "<a href=\"https://colab.research.google.com/github/aeau/MAU-AML-labs/blob/develop/2-language-models-lab/2-text-classifier-colab.ipynb\" target=\"_parent\"><img src=\"https://colab.research.google.com/assets/colab-badge.svg\" alt=\"Open In Colab\"/></a>"
      ]
    },
    {
      "cell_type": "markdown",
      "metadata": {
        "id": "L8LQKGuJuUF7"
      },
      "source": [
        "## Text Classification ##\n",
        "\n",
        "This notebook is based on this Pytorch tutorial: https://pytorch.org/tutorials/intermediate/char_rnn_classification_tutorial\n",
        "        \n",
        "In this notebook, we will train a network to learn how to classify the country of a name. In this example, we will tokenize per character rather than per word"
      ]
    },
    {
      "cell_type": "code",
      "execution_count": 1,
      "metadata": {
        "id": "ZvHJ9C9YuUF9"
      },
      "outputs": [],
      "source": [
        "from __future__ import unicode_literals, print_function, division\n",
        "from io import open\n",
        "import glob\n",
        "import os\n",
        "import unicodedata\n",
        "import string\n",
        "import random\n",
        "import time\n",
        "import math\n",
        "\n",
        "import torch\n",
        "import torch.nn as nn\n",
        "import torch.optim as optim\n",
        "from torch.optim import lr_scheduler\n",
        "\n",
        "import matplotlib.pyplot as plt\n",
        "import matplotlib.ticker as ticker"
      ]
    },
    {
      "cell_type": "code",
      "execution_count": 2,
      "metadata": {
        "id": "P0W-mTB_uUF9"
      },
      "outputs": [],
      "source": [
        "device = torch.device(\"cuda\" if torch.cuda.is_available() else \"cpu\")\n",
        "# device = \"cpu\""
      ]
    },
    {
      "cell_type": "code",
      "source": [
        "from google.colab import drive\n",
        "drive.mount('/content/drive')"
      ],
      "metadata": {
        "id": "g-jqpBAGuv-Z",
        "outputId": "ffc8cd4b-8d43-4be4-f2f3-1655459b1407",
        "colab": {
          "base_uri": "https://localhost:8080/"
        }
      },
      "execution_count": 3,
      "outputs": [
        {
          "output_type": "stream",
          "name": "stdout",
          "text": [
            "Mounted at /content/drive\n"
          ]
        }
      ]
    },
    {
      "cell_type": "code",
      "source": [
        "#Change directories to point to your data!\n",
        "data_path = '/content/drive/MyDrive/Work/PHD/courses-AML/data_aml'\n",
        "specfic_path = '/content/drive/MyDrive/Work/PHD/courses-AML/data_aml/lm-data.zip'\n",
        "#!ls \"$root_dir\"\n",
        "root_dir = \"/content/data\"\n",
        "data_dir = root_dir + \"/lm-data/names\"\n",
        "\n",
        "\n",
        "!unzip '/content/drive/MyDrive/Work/PHD/courses-AML/data_aml/lm-data.zip' -d \"$root_dir\""
      ],
      "metadata": {
        "id": "_iihhLl6vIwp",
        "outputId": "23e867b0-8ac8-443b-d5ef-2875026dd4e3",
        "colab": {
          "base_uri": "https://localhost:8080/"
        }
      },
      "execution_count": 6,
      "outputs": [
        {
          "output_type": "stream",
          "name": "stdout",
          "text": [
            "Archive:  /content/drive/MyDrive/Work/PHD/courses-AML/data_aml/lm-data.zip\n",
            "replace /content/data/lm-data/spa-eng.zip? [y]es, [n]o, [A]ll, [N]one, [r]ename: N\n"
          ]
        }
      ]
    },
    {
      "cell_type": "code",
      "execution_count": 7,
      "metadata": {
        "id": "Bgf97XnluUF-",
        "outputId": "e822ce6c-187f-43d7-ca08-d2544f925283",
        "colab": {
          "base_uri": "https://localhost:8080/"
        }
      },
      "outputs": [
        {
          "output_type": "stream",
          "name": "stdout",
          "text": [
            "57\n",
            "Slusarski\n"
          ]
        }
      ],
      "source": [
        "# Vocabulary\n",
        "all_letters = string.ascii_letters + \" .,;'\"\n",
        "n_letters = len(all_letters)\n",
        "\n",
        "print(n_letters)\n",
        "\n",
        "# Turn a Unicode string to plain ASCII, thanks to https://stackoverflow.com/a/518232/2809427\n",
        "def unicodeToAscii(s):\n",
        "    return ''.join(\n",
        "        c for c in unicodedata.normalize('NFD', s)\n",
        "        if unicodedata.category(c) != 'Mn'\n",
        "        and c in all_letters\n",
        "    )\n",
        "\n",
        "print(unicodeToAscii('Ślusàrski'))"
      ]
    },
    {
      "cell_type": "code",
      "execution_count": 8,
      "metadata": {
        "id": "92gHaPfOuUF_",
        "outputId": "72d1eaf5-c02b-4771-e14c-2fe72419a7c9",
        "colab": {
          "base_uri": "https://localhost:8080/"
        }
      },
      "outputs": [
        {
          "output_type": "stream",
          "name": "stdout",
          "text": [
            "['/content/data/lm-data/names/Chinese.txt', '/content/data/lm-data/names/Arabic.txt', '/content/data/lm-data/names/Japanese.txt', '/content/data/lm-data/names/Korean.txt', '/content/data/lm-data/names/Irish.txt', '/content/data/lm-data/names/Russian.txt', '/content/data/lm-data/names/Czech.txt', '/content/data/lm-data/names/Dutch.txt', '/content/data/lm-data/names/Portuguese.txt', '/content/data/lm-data/names/Scottish.txt', '/content/data/lm-data/names/Greek.txt', '/content/data/lm-data/names/French.txt', '/content/data/lm-data/names/Vietnamese.txt', '/content/data/lm-data/names/Polish.txt', '/content/data/lm-data/names/Italian.txt', '/content/data/lm-data/names/English.txt', '/content/data/lm-data/names/Spanish.txt', '/content/data/lm-data/names/German.txt']\n",
            "18\n"
          ]
        }
      ],
      "source": [
        "def findFiles(path): return glob.glob(path)\n",
        "\n",
        "print(findFiles(data_dir + '/*.txt'))\n",
        "\n",
        "# Build the category_lines dictionary, a list of names per language\n",
        "category_lines = {}\n",
        "all_categories = []\n",
        "\n",
        "# Read a file and split into lines\n",
        "def readLines(filename):\n",
        "    lines = open(filename, encoding='utf-8').read().strip().split('\\n')\n",
        "    return [unicodeToAscii(line) for line in lines]\n",
        "\n",
        "for filename in findFiles(data_dir + '/*.txt'):\n",
        "    category = os.path.splitext(os.path.basename(filename))[0]\n",
        "    all_categories.append(category)\n",
        "    lines = readLines(filename)\n",
        "    category_lines[category] = lines\n",
        "\n",
        "n_categories = len(all_categories)\n",
        "print(n_categories) # Classes\n",
        "# print(category_lines)"
      ]
    },
    {
      "cell_type": "code",
      "execution_count": 9,
      "metadata": {
        "id": "ow4ebeBSuUF_",
        "outputId": "afff4092-198b-4a27-9ea9-51661795d9ce",
        "colab": {
          "base_uri": "https://localhost:8080/"
        }
      },
      "outputs": [
        {
          "output_type": "stream",
          "name": "stdout",
          "text": [
            "['Adamidis', 'Adamou', 'Agelakos', 'Akrivopoulos', 'Alexandropoulos']\n"
          ]
        }
      ],
      "source": [
        "print(category_lines['Greek'][:5])"
      ]
    },
    {
      "cell_type": "markdown",
      "metadata": {
        "id": "DsC2K5HNuUF_"
      },
      "source": [
        "### Make everything into one-hot vector ###\n",
        "\n",
        "For it to be used (transform into a tensor). Here we are doing a character-based one-hot vector"
      ]
    },
    {
      "cell_type": "code",
      "execution_count": 10,
      "metadata": {
        "id": "DxTCIJJ_uUGA",
        "outputId": "74bf2f61-59f8-43fd-bc4e-48a001a1fcfb",
        "colab": {
          "base_uri": "https://localhost:8080/"
        }
      },
      "outputs": [
        {
          "output_type": "stream",
          "name": "stdout",
          "text": [
            "tensor([[0., 0., 0., 0., 0., 0., 0., 0., 0., 0., 0., 0., 0., 0., 0., 0., 0., 0.,\n",
            "         0., 0., 0., 0., 0., 0., 0., 0., 0., 0., 0., 0., 0., 0., 0., 0., 0., 1.,\n",
            "         0., 0., 0., 0., 0., 0., 0., 0., 0., 0., 0., 0., 0., 0., 0., 0., 0., 0.,\n",
            "         0., 0., 0.]])\n",
            "torch.Size([5, 1, 57])\n"
          ]
        }
      ],
      "source": [
        "# Find letter index from all_letters, e.g. \"a\" = 0\n",
        "def letterToIndex(letter):\n",
        "    return all_letters.find(letter)\n",
        "\n",
        "# Just for demonstration, turn a letter into a <1 x n_letters> Tensor\n",
        "def letterToTensor(letter):\n",
        "    tensor = torch.zeros(1, n_letters)\n",
        "    tensor[0][letterToIndex(letter)] = 1\n",
        "    return tensor\n",
        "\n",
        "# Turn a line into a <line_length x 1 x n_letters>,\n",
        "# or an array of one-hot letter vectors\n",
        "def lineToTensor(line):\n",
        "    tensor = torch.zeros(len(line), 1, n_letters)\n",
        "    for li, letter in enumerate(line):\n",
        "        tensor[li][0][letterToIndex(letter)] = 1\n",
        "    return tensor\n",
        "\n",
        "print(letterToTensor('J'))\n",
        "print(lineToTensor('Jones').size())"
      ]
    },
    {
      "cell_type": "code",
      "execution_count": 11,
      "metadata": {
        "id": "DVFbr4OhuUGA"
      },
      "outputs": [],
      "source": [
        "class RNN(nn.Module):\n",
        "    def __init__(self, input_size, hidden_size, output_size):\n",
        "        super(RNN, self).__init__()\n",
        "\n",
        "        self.hidden_size = hidden_size\n",
        "\n",
        "        self.hidden_comp = nn.Linear(input_size + hidden_size, hidden_size)\n",
        "        self.output_comp = nn.Linear(input_size + hidden_size, hidden_size)\n",
        "        self.output2output = nn.Linear(hidden_size, output_size)\n",
        "        self.tanh_act = nn.Tanh()\n",
        "        self.lsoftmax = nn.LogSoftmax(dim=1)\n",
        "\n",
        "    def forward(self, x, hidden):\n",
        "#         print(x.shape)\n",
        "        \n",
        "        combined = torch.cat((x, hidden), 1)\n",
        "        hidden = self.hidden_comp(combined)\n",
        "        hidden = self.tanh_act(hidden)\n",
        "#         print(hidden.shape)\n",
        "        \n",
        "        output = self.output_comp(combined)\n",
        "        output = self.tanh_act(output)\n",
        "#         print(output.shape)\n",
        "        output = self.output2output(output)\n",
        "        output = self.lsoftmax(output)\n",
        "#         print(output.shape)\n",
        "        \n",
        "        return output, hidden\n",
        "\n",
        "    def initHidden(self):\n",
        "        return torch.zeros(1, self.hidden_size)\n",
        "\n",
        "n_hidden = 128\n",
        "rnn = RNN(n_letters, n_hidden, n_categories)"
      ]
    },
    {
      "cell_type": "markdown",
      "metadata": {
        "id": "RYv3BheauUGB"
      },
      "source": [
        "To run a step of this network we need to pass an input (in our case, the Tensor for the current letter) and a previous hidden state (which we initialize as zeros at first). We’ll get back the output (probability of each language) and a next hidden state (which we keep for the next step)."
      ]
    },
    {
      "cell_type": "code",
      "execution_count": 12,
      "metadata": {
        "id": "EMZ2mbjuuUGB",
        "outputId": "bbc9585f-1ba0-45b9-ed3a-a2fb4c4bb6b2",
        "colab": {
          "base_uri": "https://localhost:8080/"
        }
      },
      "outputs": [
        {
          "output_type": "stream",
          "name": "stdout",
          "text": [
            "tensor([8])\n",
            "tensor([[ 8, 11, 13]])\n"
          ]
        }
      ],
      "source": [
        "x = letterToTensor('A')\n",
        "hidden =torch.zeros(1, n_hidden)\n",
        "hidden = rnn.initHidden()\n",
        "\n",
        "output, next_hidden = rnn(x, hidden)\n",
        "print(output.argmax(-1))\n",
        "print(output.topk(3).indices)"
      ]
    },
    {
      "cell_type": "code",
      "execution_count": 15,
      "metadata": {
        "id": "Pb05odt2uUGB",
        "outputId": "502f6c8b-19af-4ed6-9a07-d05fa4fb6a3d",
        "colab": {
          "base_uri": "https://localhost:8080/"
        }
      },
      "outputs": [
        {
          "output_type": "stream",
          "name": "stdout",
          "text": [
            "tensor([8])\n"
          ]
        }
      ],
      "source": [
        "x = lineToTensor('Alberto')\n",
        "hidden = torch.zeros(1, n_hidden)\n",
        "\n",
        "output, next_hidden = rnn(x[0], hidden)\n",
        "print(output.argmax(-1))"
      ]
    },
    {
      "cell_type": "markdown",
      "metadata": {
        "id": "7ZH4fIXmuUGC"
      },
      "source": [
        "## Preparing for training! ##"
      ]
    },
    {
      "cell_type": "code",
      "execution_count": 16,
      "metadata": {
        "id": "aHhkw2PfuUGC",
        "outputId": "43ec64aa-7c01-4a19-85c5-0b7228c87707",
        "colab": {
          "base_uri": "https://localhost:8080/"
        }
      },
      "outputs": [
        {
          "output_type": "stream",
          "name": "stdout",
          "text": [
            "('Portuguese', 8)\n"
          ]
        }
      ],
      "source": [
        "# Helper function to get the actual category from the best\n",
        "\n",
        "def categoryFromOutput(output):\n",
        "    top_n, top_i = output.topk(1)\n",
        "    category_i = top_i[0].item()\n",
        "    return all_categories[category_i], category_i\n",
        "\n",
        "print(categoryFromOutput(output))"
      ]
    },
    {
      "cell_type": "markdown",
      "metadata": {
        "id": "wcJkVs-0uUGC"
      },
      "source": [
        "### Quick way to get training example (Src = Name, Trg = Language) ###"
      ]
    },
    {
      "cell_type": "code",
      "execution_count": 17,
      "metadata": {
        "id": "2C8qeLDPuUGC",
        "outputId": "61f1e3bb-5bf0-42cd-874c-3f47340e4081",
        "colab": {
          "base_uri": "https://localhost:8080/"
        }
      },
      "outputs": [
        {
          "output_type": "stream",
          "name": "stdout",
          "text": [
            "category = English / line = Lindo\n",
            "category = Spanish / line = De santigo\n",
            "category = Czech / line = Husk\n",
            "category = Irish / line = O'Dell\n",
            "category = Korean / line = Pak\n",
            "category = Japanese / line = Masuzoe\n",
            "category = Scottish / line = Simpson\n",
            "category = Greek / line = Makricosta\n",
            "category = Dutch / line = Snyders\n",
            "category = Scottish / line = Martin\n"
          ]
        }
      ],
      "source": [
        "def randomChoice(l):\n",
        "    return l[random.randint(0, len(l) - 1)]\n",
        "\n",
        "def randomTrainingExample():\n",
        "    category = randomChoice(all_categories)\n",
        "    line = randomChoice(category_lines[category])\n",
        "    category_tensor = torch.tensor([all_categories.index(category)], dtype=torch.long)\n",
        "    line_tensor = lineToTensor(line)\n",
        "    return category, line, category_tensor, line_tensor\n",
        "\n",
        "for i in range(10):\n",
        "    category, line, category_tensor, line_tensor = randomTrainingExample()\n",
        "    print('category =', category, '/ line =', line)"
      ]
    },
    {
      "cell_type": "code",
      "execution_count": 18,
      "metadata": {
        "id": "SNiUZiPzuUGC"
      },
      "outputs": [],
      "source": [
        "def timeSince(since):\n",
        "    now = time.time()\n",
        "    s = now - since\n",
        "    m = math.floor(s / 60)\n",
        "    s -= m * 60\n",
        "    return '%dm %ds' % (m, s)\n"
      ]
    },
    {
      "cell_type": "markdown",
      "metadata": {
        "id": "u8anePKNuUGD"
      },
      "source": [
        "## Train now!!! ##"
      ]
    },
    {
      "cell_type": "code",
      "execution_count": 19,
      "metadata": {
        "id": "sn6VaoZluUGD"
      },
      "outputs": [],
      "source": [
        "def train(category_tensor, line_tensor, optim, criterion, model):\n",
        "    \n",
        "    model.train()\n",
        "    hidden = model.initHidden()\n",
        "    model.zero_grad()\n",
        "    \n",
        "    category_tensor = category_tensor.to(device)\n",
        "    line_tensor = line_tensor.to(device)\n",
        "\n",
        "    # Iterate through the whole line!\n",
        "    for i in range(line_tensor.size()[0]):\n",
        "        hidden = hidden.to(device)\n",
        "        output, hidden = model(line_tensor[i], hidden)\n",
        "\n",
        "    loss = criterion(output, category_tensor)\n",
        "    \n",
        "    # zero the parameter gradients\n",
        "    optim.zero_grad()\n",
        "    loss.backward()\n",
        "    optim.step()\n",
        "\n",
        "    return output, loss.item()"
      ]
    },
    {
      "cell_type": "markdown",
      "metadata": {
        "id": "PvFb32TruUGD"
      },
      "source": [
        "#### Train with the RNN from scrath ####"
      ]
    },
    {
      "cell_type": "code",
      "execution_count": 20,
      "metadata": {
        "id": "hJsjzrjRuUGD",
        "outputId": "5d884a55-2b26-4e07-ca38-9b61452c5aa1",
        "colab": {
          "base_uri": "https://localhost:8080/"
        }
      },
      "outputs": [
        {
          "output_type": "stream",
          "name": "stdout",
          "text": [
            "5000 50% (0m 8s) 2.7232 Pho / Portuguese ✗ (Vietnamese)\n",
            "10000 100% (0m 17s) 2.6250 Aggio / Portuguese ✗ (Italian)\n"
          ]
        }
      ],
      "source": [
        "criterion = nn.NLLLoss() # Because we are using Log_softmax\n",
        "learning_rate = 0.005 # If you set this too high, it might explode. If too low, it might not learn\n",
        "N_HIDDEN = 128\n",
        "\n",
        "model_basic = RNN(n_letters, N_HIDDEN, n_categories) #Vocab_size, hidden size, output classes\n",
        "model_basic = model_basic.to(device)\n",
        "optimizer = optim.SGD(model_basic.parameters(), lr=learning_rate)\n",
        "\n",
        "n_iters = 10000\n",
        "print_every = 5000\n",
        "plot_every = 1000\n",
        "\n",
        "# Keep track of losses for plotting\n",
        "current_loss = 0\n",
        "all_losses = []\n",
        "\n",
        "start = time.time()\n",
        "\n",
        "for iter in range(1, n_iters + 1):\n",
        "    category, line, category_tensor, line_tensor = randomTrainingExample()\n",
        "    output, loss = train(category_tensor, line_tensor, optimizer, criterion, model_basic)\n",
        "    current_loss += loss\n",
        "\n",
        "    # Print iter number, loss, name and guess\n",
        "    if iter % print_every == 0:\n",
        "        guess, guess_i = categoryFromOutput(output)\n",
        "        correct = '✓' if guess == category else '✗ (%s)' % category\n",
        "        print('%d %d%% (%s) %.4f %s / %s %s' % (iter, iter / n_iters * 100, timeSince(start), loss, line, guess, correct))\n",
        "\n",
        "    # Add current loss avg to list of losses\n",
        "    if iter % plot_every == 0:\n",
        "        all_losses.append(current_loss / plot_every)\n",
        "        current_loss = 0"
      ]
    },
    {
      "cell_type": "code",
      "execution_count": 21,
      "metadata": {
        "id": "Cht6CoG8uUGD",
        "outputId": "f6b84647-7f27-4247-a9bc-4860b750d906",
        "colab": {
          "base_uri": "https://localhost:8080/",
          "height": 282
        }
      },
      "outputs": [
        {
          "output_type": "execute_result",
          "data": {
            "text/plain": [
              "[<matplotlib.lines.Line2D at 0x7f75ff1870d0>]"
            ]
          },
          "metadata": {},
          "execution_count": 21
        },
        {
          "output_type": "display_data",
          "data": {
            "text/plain": [
              "<Figure size 432x288 with 1 Axes>"
            ],
            "image/png": "[encoded data removed]"
          },
          "metadata": {
            "needs_background": "light"
          }
        }
      ],
      "source": [
        "# PLOT THE RESULT\n",
        "\n",
        "import matplotlib.pyplot as plt\n",
        "import matplotlib.ticker as ticker\n",
        "\n",
        "plt.figure()\n",
        "plt.plot(all_losses)"
      ]
    },
    {
      "cell_type": "markdown",
      "metadata": {
        "id": "kg7esg4muUGD"
      },
      "source": [
        "## Evaluate the results with a confusion matrix! ##"
      ]
    },
    {
      "cell_type": "code",
      "execution_count": 22,
      "metadata": {
        "id": "uzKItQSsuUGD",
        "outputId": "ea3de010-5c49-457e-d0e7-f29d98bcb77d",
        "colab": {
          "base_uri": "https://localhost:8080/",
          "height": 320
        }
      },
      "outputs": [
        {
          "output_type": "display_data",
          "data": {
            "text/plain": [
              "<Figure size 432x288 with 2 Axes>"
            ],
            "image/png": "[encoded data removed]"
          },
          "metadata": {
            "needs_background": "light"
          }
        }
      ],
      "source": [
        "# Keep track of correct guesses in a confusion matrix\n",
        "confusion = torch.zeros(n_categories, n_categories)\n",
        "n_confusion = 10000\n",
        "\n",
        "# Just return an output given a line\n",
        "def evaluate(line_tensor, model):\n",
        "    model.eval()\n",
        "    hidden = model.initHidden()\n",
        "    line_tensor = line_tensor.to(device)\n",
        "\n",
        "    for i in range(line_tensor.size()[0]):\n",
        "        hidden = hidden.to(device)\n",
        "        output, hidden = model(line_tensor[i], hidden)\n",
        "\n",
        "    return output\n",
        "\n",
        "# Go through a bunch of examples and record which are correctly guessed\n",
        "for i in range(n_confusion):\n",
        "    category, line, category_tensor, line_tensor = randomTrainingExample()\n",
        "    output = evaluate(line_tensor, model_basic)\n",
        "    guess, guess_i = categoryFromOutput(output)\n",
        "    category_i = all_categories.index(category)\n",
        "    confusion[category_i][guess_i] += 1\n",
        "\n",
        "# Normalize by dividing every row by its sum\n",
        "for i in range(n_categories):\n",
        "    confusion[i] = confusion[i] / confusion[i].sum()\n",
        "\n",
        "# Set up plot\n",
        "fig = plt.figure()\n",
        "ax = fig.add_subplot(111)\n",
        "cax = ax.matshow(confusion.numpy())\n",
        "fig.colorbar(cax)\n",
        "\n",
        "# Set up axes\n",
        "ax.set_xticklabels([''] + all_categories, rotation=90)\n",
        "ax.set_yticklabels([''] + all_categories)\n",
        "\n",
        "# Force label at every tick\n",
        "ax.xaxis.set_major_locator(ticker.MultipleLocator(1))\n",
        "ax.yaxis.set_major_locator(ticker.MultipleLocator(1))\n",
        "\n",
        "# sphinx_gallery_thumbnail_number = 2\n",
        "plt.show()"
      ]
    },
    {
      "cell_type": "markdown",
      "metadata": {
        "id": "kmsE1es5uUGE"
      },
      "source": [
        "## Now we can try predicting our own things! ##"
      ]
    },
    {
      "cell_type": "code",
      "execution_count": 23,
      "metadata": {
        "id": "riBQ2g2iuUGE",
        "outputId": "c28342ea-5183-4c4a-cfbe-f3a0cea2e77e",
        "colab": {
          "base_uri": "https://localhost:8080/"
        }
      },
      "outputs": [
        {
          "output_type": "stream",
          "name": "stdout",
          "text": [
            "\n",
            "> Dovesky\n",
            "(-1.57) Polish\n",
            "(-2.15) Czech\n",
            "(-2.31) Russian\n",
            "\n",
            "> Jackson\n",
            "(-1.95) Russian\n",
            "(-2.02) Scottish\n",
            "(-2.12) Irish\n",
            "\n",
            "> Satoshi\n",
            "(-1.66) Italian\n",
            "(-1.80) Polish\n",
            "(-1.87) Japanese\n",
            "\n",
            "> Alberto\n",
            "(-1.59) Portuguese\n",
            "(-1.79) Spanish\n",
            "(-2.21) Japanese\n"
          ]
        }
      ],
      "source": [
        "def predict(input_line, n_predictions=3):\n",
        "    print('\\n> %s' % input_line)\n",
        "    with torch.no_grad():\n",
        "        output = evaluate(lineToTensor(input_line), model_basic)\n",
        "\n",
        "        # Get top N categories\n",
        "        topv, topi = output.topk(n_predictions, 1, True)\n",
        "        predictions = []\n",
        "\n",
        "        for i in range(n_predictions):\n",
        "            value = topv[0][i].item()\n",
        "            category_index = topi[0][i].item()\n",
        "            print('(%.2f) %s' % (value, all_categories[category_index]))\n",
        "            predictions.append([value, all_categories[category_index]])\n",
        "\n",
        "predict('Dovesky')\n",
        "predict('Jackson')\n",
        "predict('Satoshi')\n",
        "predict('Alberto')"
      ]
    },
    {
      "cell_type": "markdown",
      "metadata": {
        "id": "xwp5RUYAuUGE"
      },
      "source": [
        "### So now lets shift to using the RNN Module from Pytorch ###"
      ]
    },
    {
      "cell_type": "code",
      "execution_count": 24,
      "metadata": {
        "id": "hTRGi1tvuUGE",
        "outputId": "8bfaf790-8d4e-40d3-8520-6fdfe81bbfcb",
        "colab": {
          "base_uri": "https://localhost:8080/"
        }
      },
      "outputs": [
        {
          "output_type": "stream",
          "name": "stdout",
          "text": [
            "category = Irish / line = Macshuibhne\n",
            "category = Irish / line = Coghlan\n",
            "category = English / line = Panesar\n",
            "category = Portuguese / line = Serafim\n",
            "category = Italian / line = Trapani\n",
            "category = Arabic / line = Naifeh\n",
            "category = Spanish / line = Alvarado\n",
            "category = Japanese / line = Anami\n",
            "category = Arabic / line = Shalhoub\n",
            "category = Italian / line = Orsini\n"
          ]
        }
      ],
      "source": [
        "def categoryToTensor(category):\n",
        "#     tensor = torch.zeros([1, 1], dtype=torch.long)\n",
        "#     tensor[0][0] = all_categories.index(category)\n",
        "    tensor = torch.zeros([1, len(all_categories)], dtype=torch.long)\n",
        "    tensor[0][all_categories.index(category)] = 1\n",
        "    return tensor\n",
        "\n",
        "def randomChoice(l):\n",
        "    return l[random.randint(0, len(l) - 1)]\n",
        "\n",
        "def randomTrainingExample():\n",
        "    category = randomChoice(all_categories)\n",
        "    line = randomChoice(category_lines[category])\n",
        "    category_tensor = categoryToTensor(category)\n",
        "    line_tensor = lineToTensor(line)\n",
        "    return category, line, category_tensor, line_tensor\n",
        "\n",
        "for i in range(10):\n",
        "    category, line, category_tensor, line_tensor = randomTrainingExample()\n",
        "    print('category =', category, '/ line =', line)\n",
        "#     print(category_tensor.shape)"
      ]
    },
    {
      "cell_type": "code",
      "execution_count": 25,
      "metadata": {
        "id": "aV7pI3_CuUGE"
      },
      "outputs": [],
      "source": [
        "class RNNPytorch(nn.Module):\n",
        "    def __init__(self, input_size, hidden_size, output_size):\n",
        "        super(RNNPytorch, self).__init__()\n",
        "\n",
        "        self.hidden_size = hidden_size\n",
        "        \n",
        "        self.rnn = nn.RNN(input_size, hidden_size, num_layers=1, batch_first=True) # 1 is num_layers\n",
        "        self.fc = nn.Linear(hidden_size, output_size)\n",
        "        self.lsoftmax = nn.LogSoftmax(dim=1)\n",
        "\n",
        "    def forward(self, x, hidden):\n",
        "\n",
        "        hidden, output = self.rnn(x, hidden)\n",
        "\n",
        "        output = output.contiguous().view(-1, self.hidden_size)\n",
        "        output = self.fc(output)\n",
        "        output = self.lsoftmax(output)\n",
        "        \n",
        "        return output, hidden\n",
        "\n",
        "    def initHidden(self, batch_size):\n",
        "        return torch.zeros(1, 1, self.hidden_size)"
      ]
    },
    {
      "cell_type": "code",
      "execution_count": 26,
      "metadata": {
        "id": "ym7RVeKHuUGE"
      },
      "outputs": [],
      "source": [
        "def train_pytorch_model(category_tensor, line_tensor, optim, criterion, model):\n",
        "    \n",
        "    model.train()\n",
        "    hidden = model.initHidden(line_tensor.shape[1])\n",
        "    model.zero_grad()\n",
        "    line_tensor = line_tensor.permute(1, 0, 2)\n",
        "#     print(line_tensor.shape)\n",
        "    \n",
        "#     print(category_tensor.shape)\n",
        "    category_tensor = category_tensor.to(device)\n",
        "    line_tensor = line_tensor.to(device)\n",
        "    \n",
        "    # Iterate through the whole line!\n",
        "    hidden = hidden.to(device)\n",
        "    output, hidden = model(line_tensor, hidden)\n",
        "\n",
        "    loss = criterion(output, torch.topk(category_tensor, 1).indices.view(-1))\n",
        "    \n",
        "    # zero the parameter gradients\n",
        "    optim.zero_grad()\n",
        "    loss.backward()\n",
        "    optim.step()\n",
        "\n",
        "    return output, loss.item()"
      ]
    },
    {
      "cell_type": "markdown",
      "metadata": {
        "id": "VAfzhojnuUGE"
      },
      "source": [
        "#### Train from the RNN using pytorch approach ####"
      ]
    },
    {
      "cell_type": "code",
      "execution_count": 31,
      "metadata": {
        "id": "EfKG1mWXuUGE",
        "outputId": "85491114-d26e-499e-8438-29ecd99e39f5",
        "colab": {
          "base_uri": "https://localhost:8080/"
        }
      },
      "outputs": [
        {
          "output_type": "stream",
          "name": "stdout",
          "text": [
            "5000 5% (0m 6s) 2.1992 Legrand / French ✓\n",
            "10000 10% (0m 12s) 1.8467 Hayden / Irish ✓\n",
            "15000 15% (0m 18s) 1.1196 Antwerpen / Dutch ✓\n",
            "20000 20% (0m 24s) 0.6146 Aswad / Arabic ✓\n",
            "25000 25% (0m 30s) 3.3755 Deschamps / Greek ✗ (French)\n",
            "30000 30% (0m 36s) 0.0628 Calogerakis / Greek ✓\n",
            "35000 35% (0m 42s) 1.3229 Schoorel / Dutch ✓\n",
            "40000 40% (0m 47s) 0.5198 Confortola / Italian ✓\n",
            "45000 45% (0m 53s) 0.0501 Anderson / Scottish ✓\n",
            "50000 50% (0m 59s) 0.8479 Yudkovich / Russian ✓\n",
            "55000 55% (1m 5s) 0.2497 Gomatos / Greek ✓\n",
            "60000 60% (1m 11s) 2.3927 Cantu / French ✗ (Italian)\n",
            "65000 65% (1m 17s) 1.0575 Spicka / Polish ✗ (Czech)\n",
            "70000 70% (1m 23s) 0.7737 O'Rourke / Irish ✓\n",
            "75000 75% (1m 29s) 0.0489 Thai / Vietnamese ✓\n",
            "80000 80% (1m 35s) 1.6812 Hase / Japanese ✗ (German)\n",
            "85000 85% (1m 41s) 0.2588 Ortega / Spanish ✓\n",
            "90000 90% (1m 47s) 0.1116 Okuma / Japanese ✓\n",
            "95000 95% (1m 53s) 0.4692 Seif / Arabic ✓\n",
            "100000 100% (1m 59s) 0.0487 Ribeiro / Portuguese ✓\n"
          ]
        }
      ],
      "source": [
        "criterion = nn.NLLLoss() # Because we are using Log_softmax\n",
        "learning_rate = 0.005 # If you set this too high, it might explode. If too low, it might not learn\n",
        "N_HIDDEN = 128\n",
        "\n",
        "model_pytorch = RNNPytorch(n_letters, N_HIDDEN, n_categories) #Vocab_size, hidden size, output classes\n",
        "model_pytorch = model_pytorch.to(device)\n",
        "optimizer = optim.SGD(model_pytorch.parameters(), lr=learning_rate)\n",
        "\n",
        "n_iters = 100000\n",
        "print_every = 5000\n",
        "plot_every = 1000\n",
        "\n",
        "# Keep track of losses for plotting\n",
        "current_loss = 0\n",
        "all_losses = []\n",
        "\n",
        "start = time.time()\n",
        "\n",
        "for iter in range(1, n_iters + 1):\n",
        "    category, line, category_tensor, line_tensor = randomTrainingExample()\n",
        "    output, loss = train_pytorch_model(category_tensor, line_tensor, optimizer, criterion, model_pytorch)\n",
        "    current_loss += loss\n",
        "    # Print iter number, loss, name and guess\n",
        "    if iter % print_every == 0:\n",
        "        guess, guess_i = categoryFromOutput(output)\n",
        "        correct = '✓' if guess == category else '✗ (%s)' % category\n",
        "        print('%d %d%% (%s) %.4f %s / %s %s' % (iter, iter / n_iters * 100, timeSince(start), loss, line, guess, correct))\n",
        "\n",
        "    # Add current loss avg to list of losses\n",
        "    if iter % plot_every == 0:\n",
        "        all_losses.append(current_loss / plot_every)\n",
        "        current_loss = 0"
      ]
    },
    {
      "cell_type": "code",
      "execution_count": 32,
      "metadata": {
        "id": "eFAsPtDCuUGE",
        "outputId": "b4e3958d-6ee6-4075-a6be-8663734162d5",
        "colab": {
          "base_uri": "https://localhost:8080/",
          "height": 282
        }
      },
      "outputs": [
        {
          "output_type": "execute_result",
          "data": {
            "text/plain": [
              "[<matplotlib.lines.Line2D at 0x7f75feaac210>]"
            ]
          },
          "metadata": {},
          "execution_count": 32
        },
        {
          "output_type": "display_data",
          "data": {
            "text/plain": [
              "<Figure size 432x288 with 1 Axes>"
            ],
            "image/png": "[encoded data removed]"
          },
          "metadata": {
            "needs_background": "light"
          }
        }
      ],
      "source": [
        "# PLOT THE RESULT\n",
        "\n",
        "import matplotlib.pyplot as plt\n",
        "import matplotlib.ticker as ticker\n",
        "\n",
        "plt.figure()\n",
        "plt.plot(all_losses)"
      ]
    },
    {
      "cell_type": "code",
      "execution_count": 33,
      "metadata": {
        "id": "_qw4fy_AuUGF"
      },
      "outputs": [],
      "source": [
        "# Just return an output given a line\n",
        "def evaluate(line_tensor, model):\n",
        "    model.eval()\n",
        "    hidden = model.initHidden(line_tensor.shape[1])\n",
        "    hidden = hidden.to(device)\n",
        "\n",
        "    line_tensor = line_tensor.permute(1, 0, 2)\n",
        "    line_tensor = line_tensor.to(device)\n",
        "    output, hidden = model(line_tensor, hidden)\n",
        "    \n",
        "    return output"
      ]
    },
    {
      "cell_type": "code",
      "execution_count": 34,
      "metadata": {
        "id": "bqd3cYAVuUGF",
        "outputId": "ea372cf3-ab5e-49b7-8efa-423c37e08f02",
        "colab": {
          "base_uri": "https://localhost:8080/"
        }
      },
      "outputs": [
        {
          "output_type": "stream",
          "name": "stdout",
          "text": [
            "\n",
            "> Dovesky\n",
            "(-0.21) Russian\n",
            "(-2.46) Czech\n",
            "(-2.88) English\n",
            "\n",
            "> Jackson\n",
            "(-0.16) Scottish\n",
            "(-2.64) English\n",
            "(-3.44) Russian\n",
            "\n",
            "> Satoshi\n",
            "(-0.39) Japanese\n",
            "(-1.83) Polish\n",
            "(-2.49) Italian\n",
            "\n",
            "> Alberto\n",
            "(-0.09) Portuguese\n",
            "(-2.51) Spanish\n",
            "(-5.10) Italian\n"
          ]
        }
      ],
      "source": [
        "def predict(input_line, n_predictions=3):\n",
        "    print('\\n> %s' % input_line)\n",
        "    with torch.no_grad():\n",
        "        output = evaluate(lineToTensor(input_line), model_pytorch)\n",
        "\n",
        "        # Get top N categories\n",
        "        topv, topi = output.topk(n_predictions, 1, True)\n",
        "        predictions = []\n",
        "\n",
        "        for i in range(n_predictions):\n",
        "            value = topv[0][i].item()\n",
        "            category_index = topi[0][i].item()\n",
        "            print('(%.2f) %s' % (value, all_categories[category_index]))\n",
        "            predictions.append([value, all_categories[category_index]])\n",
        "\n",
        "predict('Dovesky')\n",
        "predict('Jackson')\n",
        "predict('Satoshi')\n",
        "predict('Alberto')"
      ]
    },
    {
      "cell_type": "code",
      "execution_count": null,
      "metadata": {
        "id": "x6dicpKmuUGF"
      },
      "outputs": [],
      "source": [
        ""
      ]
    },
    {
      "cell_type": "markdown",
      "metadata": {
        "id": "hoLQzvvxuUGF"
      },
      "source": [
        "## Now one of your assigments is to adapt/expand this text classifier! ##\n",
        "\n",
        "- Adapt the task to another similar task\n",
        "- Use LSTMs or GRU to compare with both Vanilla RNN approaches\n",
        "\n",
        "You can keep it at character-level or you can extend it to word-level (the vocabulary will change)\n",
        "\n",
        "Try with different datasets with a similar Input/Output system:\n",
        "- Book or character name -> writer\n",
        "- Game's titles -> company or genre\n",
        "- Any word -> language\n",
        "- Whatever you can think it can be classified"
      ]
    },
    {
      "cell_type": "code",
      "execution_count": null,
      "metadata": {
        "id": "QGMcpOVxuUGF"
      },
      "outputs": [],
      "source": [
        ""
      ]
    }
  ],
  "metadata": {
    "kernelspec": {
      "display_name": "Python [conda env:pDL] *",
      "language": "python",
      "name": "conda-env-pDL-py"
    },
    "language_info": {
      "codemirror_mode": {
        "name": "ipython",
        "version": 3
      },
      "file_extension": ".py",
      "mimetype": "text/x-python",
      "name": "python",
      "nbconvert_exporter": "python",
      "pygments_lexer": "ipython3",
      "version": "3.8.2"
    },
    "colab": {
      "name": "2-text-classifier.ipynb",
      "provenance": [],
      "include_colab_link": true
    }
  },
  "nbformat": 4,
  "nbformat_minor": 0
}